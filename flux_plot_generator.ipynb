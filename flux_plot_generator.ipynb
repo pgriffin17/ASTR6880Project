{
 "cells": [
  {
   "cell_type": "code",
   "execution_count": 5,
   "metadata": {},
   "outputs": [],
   "source": [
    "import ciao_contrib.runtool as rt\n",
    "import sherpa.astro.ui as ui\n",
    "import numpy as np\n",
    "import matplotlib.pyplot as plt\n",
    "import os\n",
    "import re\n",
    "\n",
    "#astropy is used to read WCS position information from fits files for region_count\n",
    "from astropy.io import fits\n",
    "from astropy import wcs\n",
    "from astropy import units as u\n",
    "from astropy.coordinates import SkyCoord, Distance\n",
    "\n",
    "#spreadsheet is used to store the list of obsids by epoch and read the obs header information for lightcurve_counts\n",
    "import spreadsheet\n",
    "\n",
    "# import scalarformatter to change the number format of x axis tick labels\n",
    "from matplotlib.ticker import ScalarFormatter\n",
    "\n",
    "#%matplotlib widget\n",
    "%matplotlib inline\n",
    "\n",
    "\n",
    "def region_count(epoch_in):\n",
    "    '''\n",
    "    write _summary.txt files with the count rate and upper and lower bounds on the 90% confidence interval\n",
    "    '''\n",
    "    srcflx = rt.srcflux\n",
    "    srcflx.punlearn() #Restore the system defaults for a CIAO parameter file.\n",
    "    srcflx.infile = f'data/merge_test/epoch_{epoch_in}/merged_evt.fits'\n",
    "    #with fits.open(srcflx.infile) as f:\n",
    "        #loc = SkyCoord(f[1].header['RA_NOM']*u.deg,f[1].header['DEC_NOM']*u.deg)\n",
    "        #loc_str = loc.ra.to_string(unit=u.hourangle, sep=':', pad=True, precision=2) + \" \" + loc.dec.to_string(unit=u.degree, sep=':', pad=True, precision=2)\n",
    "    #srcflx.pos = loc_str #Reads RA, DEC columns as a position in sexagesimal \"degree:arcmin:arcsec\" format\n",
    "    srcflx.pos = '13:09:48.0597,-23:22:52.836'\n",
    "    srcflx.outroot = f'data/merge_test/epoch_{epoch_in}/srcflux_products/'\n",
    "    srcflx.srcreg = f'regions/srcwcs.reg' #region used to calculate the source counts\n",
    "    srcflx.bkgreg = f'regions/bkgwcs.reg'#region used to calculate the background counts\n",
    "    srcflx.clobber = 'yes'\n",
    "    srcflx.verbose = 0 #Default =1, 0 suppresses the long print statement\n",
    "    srcflx() ## produces \"_summary.txt\" file with the output data parsed by read_counts\n",
    "\n",
    "def merged_region_count(obsid_row,epoch_in):\n",
    "    '''\n",
    "    write _summary.txt files for merged observations\n",
    "    '''\n",
    "    srcflx = rt.srcflux\n",
    "    srcflx.punlearn() #Restore the system defaults for a CIAO parameter file.\n",
    "    srcflx.infile = str()\n",
    "    for obsid in obsid_row:\n",
    "        if srcflx.infile is None:\n",
    "            srcflx.infile = f'data/{obsid}/repro/acisf{obsid}_repro_evt2.fits'\n",
    "        else:\n",
    "            srcflx.infile += f',data/{obsid}/repro/acisf{obsid}_repro_evt2.fits' ## includes leading comma\n",
    "    print(srcflx.infile)\n",
    "    srcflx.pos = '13:09:48.0597,-23:22:52.836'\n",
    "    srcflx.outroot = f'data/epoch_{epoch_in}_srcflux_products/'\n",
    "    srcflx.srcreg = f'regions/srcwcs.reg' #region used to calculate the source counts\n",
    "    srcflx.bkgreg = f'regions/bkgwcs.reg'#region used to calculate the background counts\n",
    "    srcflx.clobber = 'yes'\n",
    "    srcflx.verbose = 0 #Default =1, 0 suppresses the long print statement\n",
    "    srcflx() ## produces \"_summary.txt\" file with the output data parsed by read_counts\n",
    "    \n",
    "def read_counts(epoch):\n",
    "    #filename = f'data/merge_test/epoch_{epoch}/srcflux_products/_summary.txt'\n",
    "    filename = f'data/epoch_{epoch}_srcflux_products/_summary.txt'\n",
    "    if not os.path.isfile(filename):\n",
    "        obsid_row = spreadsheet.epoch_obsid_list[epoch] ## epoch needs to index from 0\n",
    "        merged_region_count(obsid_row, epoch)\n",
    "    with open(filename, encoding='utf-8') as f:\n",
    "        for line in f:\n",
    "            count_rate_match = re.search(r'[\\d\\.E\\-]*\\s(c/s)',line)\n",
    "            lb_match = re.search(r'\\([\\d\\.E\\-]*\\,', line)\n",
    "            ub_match = re.search(r'\\,[\\d\\.E\\-]*\\)', line)\n",
    "            #0001|13 9 48.47 -23 22 58.4  Rate           0.0014 c/s (0.00104,0.00183)      \n",
    "            if count_rate_match:\n",
    "                cr = float(count_rate_match.group(0)[0:-4])\n",
    "                lb = float(lb_match.group(0)[1:-1])\n",
    "                ub = float(ub_match.group(0)[1:-1])\n",
    "                return(cr, lb, ub)\n",
    "\n",
    "def read_obsids_csv(filename):\n",
    "    '''\n",
    "    read in the obsids.csv file and return the start times, end times, halfway times, and exposure times\n",
    "    '''\n",
    "    import pandas as pd\n",
    "    obsids = pd.read_csv(filename)\n",
    "    start_times = obsids['Observation Start *(days since GW170817)']\n",
    "    end_times = obsids['Obs End *']\n",
    "    halfway_times = obsids['Halfway Date T-T0 *']\n",
    "    exposure_times = obsids['Exposure Time (ksec)']\n",
    "    return(start_times, end_times, halfway_times, exposure_times)\n",
    "\n",
    "\n",
    "def merge_obsids_into_epoch(obsid_in_list):\n",
    "    '''\n",
    "    params\n",
    "    ------\n",
    "    obsid_in_list : list\n",
    "        List of observation IDs to be merged\n",
    "\n",
    "    returns\n",
    "    -------\n",
    "    None\n",
    "    '''\n",
    "    ## previously used flxobs()\n",
    "    mrgobs = rt.merge_obs\n",
    "    epoch=4\n",
    "    for obsid_row in obsid_in_list:\n",
    "        mrgobs.punlearn()\n",
    "        mrgobs.infiles = str()\n",
    "        for obsid in obsid_row:\n",
    "            if mrgobs.infiles is None:\n",
    "                mrgobs.infiles = f'data/{obsid}/repro/acisf{obsid}_repro_evt2.fits'\n",
    "            else:\n",
    "                mrgobs.infiles += f', data/{obsid}/repro/acisf{obsid}_repro_evt2.fits' ## includes leading comma\n",
    "        print('\\nEpoch: '+str(epoch))\n",
    "        print(mrgobs.infiles)\n",
    "\n",
    "        mrgobs.outroot = f'data/merge_test/epoch_{epoch}/'\n",
    "        mrgobs.clobber='yes'\n",
    "        mrgobs()\n",
    "        epoch +=1\n",
    "\n",
    "def lightcurve_counts(epoch_in_list):\n",
    "    '''\n",
    "    produce a light curve of count rate vs time\n",
    "    '''\n",
    "    counts_list = []\n",
    "    t_list = epoch_in_list\n",
    "    yerr_list = []\n",
    "    xerr_list = []\n",
    "    lb_list = []\n",
    "    ub_list = []\n",
    "    for epoch in epoch_in_list:\n",
    "        # Count is the number of counts during that epoch\n",
    "        # lb and ub are the lower and upper bounds of the confidence interval\n",
    "        [count, lb, ub] = read_counts(epoch)\n",
    "        counts_list.append(count)\n",
    "\n",
    "        lb_list.append(lb)\n",
    "        ub_list.append(ub)\n",
    "        \n",
    "\n",
    "        #[t_t0,exp_time]=spreadsheet.epoch_header_parse(epoch)\n",
    "        #t_list.append(t_t0)\n",
    "        #xerr_list.append(exp_time/(3600*24)) ## convert observation times to days\n",
    "    lb_list = np.array(lb_list)\n",
    "    ub_list = np.array(ub_list)\n",
    "    yerr_list = np.array([counts_list-lb_list, ub_list-counts_list])\n",
    "    \n",
    "    fig = plt.figure()\n",
    "    plt.errorbar(t_list, counts_list, fmt='bo', yerr=yerr_list)    \n",
    "    #log scale on y axis\n",
    "    plt.yscale('log')\n",
    "    return()\n",
    "\n",
    "def lightcurve_flux(epoch_in_list):\n",
    "    '''\n",
    "    produce a light curve of flux vs time\n",
    "    '''\n",
    "    # Read data from obsids.csv\n",
    "    [start_times, end_times, halfway_times, exposure_times] = read_obsids_csv('obsids.csv')\n",
    "\n",
    "    t_list = np.array(halfway_times)\n",
    "    t_err_up = np.array(exposure_times - halfway_times)\n",
    "    t_err_lo = np.array(halfway_times - start_times)\n",
    "    xerr_list = [t_err_lo, t_err_up]\n",
    "    #print(xerr_list)\n",
    "\n",
    "    flux_list = []\n",
    "    yerr_list = []\n",
    "    lb_list = []\n",
    "    ub_list = []\n",
    "    conf_int = '68'\n",
    "    for epoch in epoch_in_list:\n",
    "        [flux, lb, ub] = read_flux(epoch, conf_int)\n",
    "        flux_list.append(flux)\n",
    "        lb_list.append(lb)\n",
    "        ub_list.append(ub)\n",
    "\n",
    "    lb_list = np.array(lb_list)\n",
    "    ub_list = np.array(ub_list)\n",
    "    yerr_list = np.array([flux_list-lb_list, ub_list-flux_list])\n",
    "    \n",
    "    fig = plt.figure()\n",
    "    plt.errorbar(t_list, flux_list, fmt='bo', yerr=yerr_list, xerr=xerr_list)\n",
    "    \n",
    "    print('for excel')\n",
    "    for i in range(len(flux_list)):\n",
    "        print(flux_list[i],ub_list[i],lb_list[i],sep=' ')\n",
    "    \n",
    "    # Set y axis limits\n",
    "    plt.ylim(3e-17, 8e-14)\n",
    "\n",
    "    # Set x axis limits\n",
    "    plt.xlim(60, 5000)\n",
    "\n",
    "    #log scale on x,y axes\n",
    "    plt.yscale('log')\n",
    "    plt.xscale('log')\n",
    "\n",
    "    # Change number format of x axis tick labels\n",
    "    ax = plt.gca()\n",
    "    ax.xaxis.set_major_formatter(ScalarFormatter())\n",
    "    #ax.xaxis.set_minor_formatter(ScalarFormatter())\n",
    "    ax.ticklabel_format(axis='x', style='plain', useOffset=False)\n",
    "\n",
    "\n",
    "    plt.ylabel('Flux (erg cm$^{-2}$ s$^{-1}$) for 0.3-10 keV')\n",
    "    plt.xlabel('Days since GW170817')\n",
    "    plt.title(f'Flux vs T-$T_0$ for the {conf_int}% Confidence Interval')\n",
    "\n",
    "\n",
    "def read_flux(epoch, confidence_interval):\n",
    "    #filename = f'data/merge_test/epoch_{epoch}/srcflux_products/_summary.txt'\n",
    "    filename = f'flux_products_{confidence_interval}/epoch_{epoch}_flux_summary.txt'\n",
    "    with open(filename, encoding='utf-8') as f:\n",
    "        for line in f:\n",
    "            count_rate_match = re.search(r'(Unabs).*?([\\d\\.E\\-]*)\\s(erg/cm2/s)',line)\n",
    "            lb_match = re.search(r'\\([\\d\\.E\\-]*\\,', line)\n",
    "            ub_match = re.search(r'\\,[\\d\\.E\\-]*\\)', line)\n",
    "            #0001|13 9 48.47 -23 22 58.4  Rate           0.0014 c/s (0.00104,0.00183)      \n",
    "            if count_rate_match:\n",
    "                #print('\\n'+count_rate_match.group(0))\n",
    "                #print(count_rate_match.group(2))\n",
    "                cr = float(count_rate_match.group(2).lower())\n",
    "                lb = float(lb_match.group(0)[1:-1].lower())\n",
    "                ub = float(ub_match.group(0)[1:-1].lower())\n",
    "                return(cr, lb, ub)"
   ]
  },
  {
   "cell_type": "code",
   "execution_count": 40,
   "metadata": {},
   "outputs": [],
   "source": [
    "def data_up_lo_to_latex_csv(data, up_err, lo_err, filename):\n",
    "    ''' This function should take data and errors and write them to a csv file \n",
    "    in a format that can be read by latex. The format should be datapoint$^{+up_err}_{-lo_err}$\n",
    "    '''\n",
    "    with open(filename, 'w') as f:\n",
    "        for i in range(len(data)):\n",
    "            f.write(f'{data[i]}$^{{+{up_err[i]}}}_{{-{lo_err[i]}}}$ \\n')\n",
    "\n",
    "def print_up_lo_err(data, up_err, lo_err):\n",
    "    for i in range(len(data)):\n",
    "        print(f'{data[i]}$^{{+{up_err[i]}}}_{{-{lo_err[i]}}}$')\n",
    "\n",
    "def data_to_latex_csv(data, err, filename):\n",
    "    '''\n",
    "    This function should take data and errors and write them to a csv file\n",
    "    in a format that can be read by latex. The format should be datapoint$\\pm$err\n",
    "    '''\n",
    "    with open(filename, 'w') as f:\n",
    "        for i in range(len(data)):\n",
    "            f.write(f'{data[i]}$\\pm${err[i]} \\n')\n",
    "\n",
    "def print_err(data, err):\n",
    "    for i in range(len(data)):\n",
    "        print(f'{data[i]}$\\pm${err[i]}')\n"
   ]
  },
  {
   "cell_type": "code",
   "execution_count": null,
   "metadata": {},
   "outputs": [],
   "source": [
    "print_up_lo_err(start_times, start_times-halfway_times, end_times-halfway_times)"
   ]
  },
  {
   "cell_type": "code",
   "execution_count": 35,
   "metadata": {},
   "outputs": [
    {
     "data": {
      "text/plain": [
       "()"
      ]
     },
     "execution_count": 35,
     "metadata": {},
     "output_type": "execute_result"
    }
   ],
   "source": [
    "data_up_lo_to_latex_csv([1,2,3],[0.1,0.2,0.3],[0.1,0.2,0.3],'test.csv')\n",
    "data_to_latex_csv([1,2,3],[0.13,0.2,0.3],'test.csv')"
   ]
  },
  {
   "cell_type": "code",
   "execution_count": 39,
   "metadata": {},
   "outputs": [
    {
     "name": "stdout",
     "output_type": "stream",
     "text": [
      "1$^{+0.1}_{-0.1}$\n",
      "2$^{+0.2}_{-0.2}$\n",
      "3$^{+0.3}_{-0.3}$\n"
     ]
    }
   ],
   "source": [
    "print_up_lo_err([1,2,3],[0.1,0.2,0.3],[0.1,0.2,0.3])"
   ]
  },
  {
   "cell_type": "code",
   "execution_count": 6,
   "metadata": {},
   "outputs": [
    {
     "name": "stdout",
     "output_type": "stream",
     "text": [
      "for excel\n",
      "2.32e-14,2.52e-14,2.13e-14\n",
      "2.4e-14,2.59e-14,2.2e-14\n",
      "1.29e-14,1.45e-14,1.14e-14\n",
      "7.75e-15,9.31e-15,6.37e-15\n",
      "2.8e-15,3.66e-15,2.06e-15\n",
      "2.02e-15,2.8e-15,1.37e-15\n",
      "1.36e-15,2.08e-15,7.74e-16\n",
      "2.48e-15,3.43e-15,1.68e-15\n",
      "8.45e-16,1.47e-15,3.36e-16\n",
      "4.27e-16,9.12e-16,5.28e-17\n",
      "2.28e-16,7.05e-16,0.0\n",
      "2.03e-16,5.25e-16,0.0\n"
     ]
    },
    {
     "data": {
      "image/png": "[encoded data removed]",
      "text/plain": [
       "<Figure size 640x480 with 1 Axes>"
      ]
     },
     "metadata": {},
     "output_type": "display_data"
    }
   ],
   "source": [
    "lightcurve_flux(range(12))"
   ]
  },
  {
   "cell_type": "code",
   "execution_count": null,
   "metadata": {},
   "outputs": [],
   "source": [
    "#reproject(20936, 20860)\n",
    "#obsid = 20861\n",
    "#[count, lb, ub] = region_count(obsid)\n",
    "#print(f'Obs ID {obsid} observed a count rate of {count} c/s')\n",
    "\n",
    "from spreadsheet import epoch_obsid_list as eol\n",
    "merge_obsids_into_epoch(eol)\n",
    "\n",
    "#merge_observations([20860, 20936])"
   ]
  },
  {
   "cell_type": "code",
   "execution_count": 25,
   "metadata": {},
   "outputs": [
    {
     "data": {
      "text/plain": [
       "()"
      ]
     },
     "execution_count": 25,
     "metadata": {},
     "output_type": "execute_result"
    },
    {
     "data": {
      "image/png": "[encoded data removed]",
      "text/plain": [
       "<Figure size 640x480 with 1 Axes>"
      ]
     },
     "metadata": {},
     "output_type": "display_data"
    }
   ],
   "source": [
    "from spreadsheet import epoch_obsid_list as eol\n",
    "lightcurve_counts(range(len(eol)))\n"
   ]
  },
  {
   "cell_type": "code",
   "execution_count": 33,
   "metadata": {},
   "outputs": [
    {
     "name": "stdout",
     "output_type": "stream",
     "text": [
      "[array([ 1.84498231,  5.23541618,  1.08800672,  0.4066664 ,  1.49216994,\n",
      "        1.60936873,  3.22445564,  2.30584975,  4.49357833,  2.57553213,\n",
      "       32.13045991, 31.96599229]), array([ 1.84498231,  5.23541618,  1.08800672,  0.4066664 ,  1.49216994,\n",
      "        1.60936873,  3.22445564,  2.30584975,  4.49357833,  2.57553213,\n",
      "       32.13045991, 31.96599229])]\n"
     ]
    },
    {
     "data": {
      "image/png": "[encoded data removed]",
      "text/plain": [
       "<Figure size 640x480 with 1 Axes>"
      ]
     },
     "metadata": {},
     "output_type": "display_data"
    }
   ],
   "source": [
    "from spreadsheet import epoch_obsid_list as eol\n",
    "lightcurve_flux(range(len(eol)))"
   ]
  },
  {
   "cell_type": "code",
   "execution_count": null,
   "metadata": {},
   "outputs": [],
   "source": []
  }
 ],
 "metadata": {
  "kernelspec": {
   "display_name": "Python 3.10.8 ('ciao-4.15')",
   "language": "python",
   "name": "python3"
  },
  "language_info": {
   "codemirror_mode": {
    "name": "ipython",
    "version": 3
   },
   "file_extension": ".py",
   "mimetype": "text/x-python",
   "name": "python",
   "nbconvert_exporter": "python",
   "pygments_lexer": "ipython3",
   "version": "3.10.8"
  },
  "orig_nbformat": 4,
  "vscode": {
   "interpreter": {
    "hash": "aa0ed6ea5fdefd83fab7eb4cb6966f67b14a46d682529109a8514cc91561ea32"
   }
  }
 },
 "nbformat": 4,
 "nbformat_minor": 2
}
