{
 "cells": [
  {
   "cell_type": "code",
   "execution_count": 1,
   "metadata": {},
   "outputs": [],
   "source": [
    "import os\n",
    "import csv # for epoch_obsid_tabulator\n",
    "from astropy.io import fits\n",
    "from astropy import units as u\n",
    "\n",
    "\n",
    "epoch_obsid_list = [['20860','20861'],\n",
    " ['20936','20937','20938','20939','20945'],\n",
    " ['21080','21090'],\n",
    " ['21371'],\n",
    " ['21322','22157','22158'],\n",
    " ['21372','22736','22737'],\n",
    " ['21323','23183','23184','23185'],\n",
    " ['22677','24887','24888','24889'], # Maybe combine this with the next one too?\n",
    " ['23870','24923','24924'],\n",
    " ['23869','26223','24336','24337'],\n",
    " ['25733','25734','25527'],\n",
    " ['27088','27089','27090','27731','27091','25528','27752','27753','27754']]\n",
    "\n",
    "def obsid_header_parse(obsid):\n",
    "    #get exposure time and start time from an obsid fits header\n",
    "    t_0 = '2017-08-17'\n",
    "    t_0_mjd = 57982.00000000\n",
    "    t_peak = t_0_mjd + 160\n",
    "\n",
    "    infile = f'evt2/{obsid}_evt2.fits'\n",
    "    with fits.open(infile) as f:\n",
    "        exp_time = f[1].header['TSTOP'] - f[1].header['TSTART']\n",
    "        obs_start = f[1].header['MJD-OBS']\n",
    "    return(round(obs_start-t_0_mjd,0),exp_time)\n",
    "\n",
    "def epoch_list_tabulator (obsid_list):\n",
    "    #write the list to a csv file with Epoch number\n",
    "    start_epoch = 4\n",
    "    with open('obsids.csv','w',newline='') as csvfile:\n",
    "        writer = csv.writer(csvfile, delimiter=',')\n",
    "        writer.writerow(['Group #','Representative T-T0 (days)','Exposure Time (sec)','Obs IDs'])\n",
    "        for obsid_row in obsid_list:\n",
    "            epoch = start_epoch+obsid_list.index(obsid_row)\n",
    "            exp_time_total = 0\n",
    "            representative_t_t0_weighted = 0\n",
    "            for obsid in obsid_row:\n",
    "                [t_t0,exp_time]=obsid_header_parse(obsid)\n",
    "                representative_t_t0_weighted = (representative_t_t0_weighted*exp_time_total + t_t0*exp_time)/(exp_time_total+exp_time)\n",
    "                exp_time_total = exp_time_total+exp_time\n",
    "            writer.writerow([epoch,representative_t_t0_weighted,exp_time_total,', '.join(obsid_row)])\n",
    "\n",
    "epoch_list_tabulator(epoch_obsid_list)"
   ]
  }
 ],
 "metadata": {
  "kernelspec": {
   "display_name": "Python 3.10.8 ('ciao-4.15')",
   "language": "python",
   "name": "python3"
  },
  "language_info": {
   "codemirror_mode": {
    "name": "ipython",
    "version": 3
   },
   "file_extension": ".py",
   "mimetype": "text/x-python",
   "name": "python",
   "nbconvert_exporter": "python",
   "pygments_lexer": "ipython3",
   "version": "3.10.8"
  },
  "orig_nbformat": 4,
  "vscode": {
   "interpreter": {
    "hash": "aa0ed6ea5fdefd83fab7eb4cb6966f67b14a46d682529109a8514cc91561ea32"
   }
  }
 },
 "nbformat": 4,
 "nbformat_minor": 2
}
