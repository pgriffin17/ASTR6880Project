{
 "cells": [
  {
   "cell_type": "code",
   "execution_count": 3,
   "metadata": {},
   "outputs": [],
   "source": [
    "import ciao_contrib.runtool as rt\n",
    "import sherpa.astro.ui as ui\n",
    "import numpy as np\n",
    "import matplotlib.pyplot as plt\n",
    "import os\n",
    "import re\n",
    "\n",
    "#astropy is used to read WCS position information from fits files for region_count\n",
    "from astropy.io import fits\n",
    "from astropy import wcs\n",
    "from astropy import units as u\n",
    "from astropy.coordinates import SkyCoord, Distance\n",
    "\n",
    "#spreadsheet is used to store the list of obsids by epoch and read the obs header information for lightcurve_counts\n",
    "import spreadsheet\n",
    "\n",
    "#%matplotlib widget\n",
    "\n",
    "\n",
    "def region_count(epoch_in):\n",
    "    '''\n",
    "    write _summary.txt files with the count rate and upper and lower bounds on the 90% confidence interval\n",
    "    '''\n",
    "    srcflx = rt.srcflux\n",
    "    srcflx.punlearn() #Restore the system defaults for a CIAO parameter file.\n",
    "    srcflx.infile = f'data/merge_test/epoch_{epoch_in}/merged_evt.fits'\n",
    "    #with fits.open(srcflx.infile) as f:\n",
    "        #loc = SkyCoord(f[1].header['RA_NOM']*u.deg,f[1].header['DEC_NOM']*u.deg)\n",
    "        #loc_str = loc.ra.to_string(unit=u.hourangle, sep=':', pad=True, precision=2) + \" \" + loc.dec.to_string(unit=u.degree, sep=':', pad=True, precision=2)\n",
    "    #srcflx.pos = loc_str #Reads RA, DEC columns as a position in sexagesimal \"degree:arcmin:arcsec\" format\n",
    "    srcflx.pos = '13:09:48.0597,-23:22:52.836'\n",
    "    srcflx.outroot = f'data/merge_test/epoch_{epoch_in}/srcflux_products/'\n",
    "    srcflx.srcreg = f'regions/srcwcs.reg' #region used to calculate the source counts\n",
    "    srcflx.bkgreg = f'regions/bkgwcs.reg'#region used to calculate the background counts\n",
    "    srcflx.clobber = 'yes'\n",
    "    srcflx.verbose = 0 #Default =1, 0 suppresses the long print statement\n",
    "    srcflx() ## produces \"_summary.txt\" file with the output data parsed by read_counts\n",
    "\n",
    "def merged_region_count(obsid_row,epoch_in):\n",
    "    '''\n",
    "    write _summary.txt files for merged observations\n",
    "    '''\n",
    "    srcflx = rt.srcflux\n",
    "    srcflx.punlearn() #Restore the system defaults for a CIAO parameter file.\n",
    "    srcflx.infile = str()\n",
    "    for obsid in obsid_row:\n",
    "        if srcflx.infile is None:\n",
    "            srcflx.infile = f'data/{obsid}/repro/acisf{obsid}_repro_evt2.fits'\n",
    "        else:\n",
    "            srcflx.infile += f',data/{obsid}/repro/acisf{obsid}_repro_evt2.fits' ## includes leading comma\n",
    "    print(srcflx.infile)\n",
    "    srcflx.pos = '13:09:48.0597,-23:22:52.836'\n",
    "    srcflx.outroot = f'data/epoch_{epoch_in}_srcflux_products/'\n",
    "    srcflx.srcreg = f'regions/srcwcs.reg' #region used to calculate the source counts\n",
    "    srcflx.bkgreg = f'regions/bkgwcs.reg'#region used to calculate the background counts\n",
    "    srcflx.clobber = 'yes'\n",
    "    srcflx.verbose = 0 #Default =1, 0 suppresses the long print statement\n",
    "    srcflx() ## produces \"_summary.txt\" file with the output data parsed by read_counts\n",
    "    \n",
    "def read_counts(epoch):\n",
    "    #filename = f'data/merge_test/epoch_{epoch}/srcflux_products/_summary.txt'\n",
    "    filename = f'data/epoch_{epoch}_srcflux_products/_summary.txt'\n",
    "    if not os.path.isfile(filename):\n",
    "        obsid_row = spreadsheet.epoch_obsid_list[epoch] ## epoch needs to index from 0\n",
    "        merged_region_count(obsid_row, epoch)\n",
    "    with open(filename, encoding='utf-8') as f:\n",
    "        for line in f:\n",
    "            count_rate_match = re.search(r'[\\d\\.E\\-]*\\s(c/s)',line)\n",
    "            lb_match = re.search(r'\\([\\d\\.E\\-]*\\,', line)\n",
    "            ub_match = re.search(r'\\,[\\d\\.E\\-]*\\)', line)\n",
    "            #0001|13 9 48.47 -23 22 58.4  Rate           0.0014 c/s (0.00104,0.00183)      \n",
    "            if count_rate_match:\n",
    "                cr = float(count_rate_match.group(0)[0:-4])\n",
    "                lb = float(lb_match.group(0)[1:-1])\n",
    "                ub = float(ub_match.group(0)[1:-1])\n",
    "                return(cr, lb, ub)\n",
    "\n",
    "\n",
    "def merge_obsids_into_epoch(obsid_in_list):\n",
    "    '''\n",
    "    params\n",
    "    ------\n",
    "    obsid_in_list : list\n",
    "        List of observation IDs to be merged\n",
    "\n",
    "    returns\n",
    "    -------\n",
    "    None\n",
    "    '''\n",
    "    ## previously used flxobs()\n",
    "    mrgobs = rt.merge_obs\n",
    "    epoch=4\n",
    "    for obsid_row in obsid_in_list:\n",
    "        mrgobs.punlearn()\n",
    "        mrgobs.infiles = str()\n",
    "        for obsid in obsid_row:\n",
    "            if mrgobs.infiles is None:\n",
    "                mrgobs.infiles = f'data/{obsid}/repro/acisf{obsid}_repro_evt2.fits'\n",
    "            else:\n",
    "                mrgobs.infiles += f', data/{obsid}/repro/acisf{obsid}_repro_evt2.fits' ## includes leading comma\n",
    "        print('\\nEpoch: '+str(epoch))\n",
    "        print(mrgobs.infiles)\n",
    "\n",
    "        mrgobs.outroot = f'data/merge_test/epoch_{epoch}/'\n",
    "        mrgobs.clobber='yes'\n",
    "        mrgobs()\n",
    "        epoch +=1\n",
    "\n",
    "def lightcurve_counts(epoch_in_list):\n",
    "    '''\n",
    "    produce a light curve of count rate vs time\n",
    "    '''\n",
    "    counts_list = []\n",
    "    t_list = epoch_in_list\n",
    "    yerr_list = []\n",
    "    xerr_list = []\n",
    "    for epoch in epoch_in_list:\n",
    "        [count, lb, ub] = read_counts(epoch)\n",
    "        counts_list.append(count*10000)\n",
    "        yerr_list.append(ub-lb)\n",
    "        #[t_t0,exp_time]=spreadsheet.epoch_header_parse(epoch)\n",
    "        #t_list.append(t_t0)\n",
    "        #xerr_list.append(exp_time/(3600*24)) ## convert observation times to days\n",
    "    \n",
    "    fig = plt.figure()\n",
    "    plt.errorbar(t_list, counts_list, fmt='bo', yerr=yerr_list)    \n",
    "    #log scale on y axis\n",
    "    plt.yscale('log')\n",
    "    return()\n",
    "\n",
    "def lightcurve_flux(epoch_in_list):\n",
    "    '''\n",
    "    produce a light curve of flux vs time\n",
    "    '''\n",
    "    flux_list = []\n",
    "    yerr_list = []\n",
    "    t_list = []\n",
    "    xerr_list = []\n",
    "    conf_int = '90'\n",
    "    for epoch in epoch_in_list:\n",
    "        [flux, lb, ub] = read_flux(epoch, conf_int)\n",
    "        flux_list.append(flux)\n",
    "        yerr_list.append((ub-lb)/2)\n",
    "        [t,exp_time] = spreadsheet.epoch_header_parse(epoch)\n",
    "        t_list.append(t)\n",
    "        xerr_list.append(exp_time/(24*3600))\n",
    "    \n",
    "    fig = plt.figure()\n",
    "    plt.errorbar(t_list, flux_list, fmt='bo', yerr=yerr_list, xerr=xerr_list)\n",
    "    plt.yscale('log')\n",
    "    plt.ylabel('Flux erg cm$^{-2}$ s$^{-1}$ for 0.3-10 keV')\n",
    "    plt.xlabel('Days since GW170817')\n",
    "    plt.title(f'Flux vs T-$T_0$ for the {conf_int}% Confidence Interval')\n",
    "\n",
    "\n",
    "def read_flux(epoch, confidence_interval):\n",
    "    #filename = f'data/merge_test/epoch_{epoch}/srcflux_products/_summary.txt'\n",
    "    filename = f'flux_products_{confidence_interval}/epoch_{epoch}_flux_summary.txt'\n",
    "    with open(filename, encoding='utf-8') as f:\n",
    "        for line in f:\n",
    "            count_rate_match = re.search(r'(Unabs).*?([\\d\\.E\\-]*)\\s(erg/cm2/s)',line)\n",
    "            lb_match = re.search(r'\\([\\d\\.E\\-]*\\,', line)\n",
    "            ub_match = re.search(r'\\,[\\d\\.E\\-]*\\)', line)\n",
    "            #0001|13 9 48.47 -23 22 58.4  Rate           0.0014 c/s (0.00104,0.00183)      \n",
    "            if count_rate_match:\n",
    "                #print('\\n'+count_rate_match.group(0))\n",
    "                #print(count_rate_match.group(2))\n",
    "                cr = float(count_rate_match.group(2).lower())\n",
    "                lb = float(lb_match.group(0)[1:-1].lower())\n",
    "                ub = float(ub_match.group(0)[1:-1].lower())\n",
    "                return(cr, lb, ub)"
   ]
  },
  {
   "cell_type": "code",
   "execution_count": 4,
   "metadata": {},
   "outputs": [
    {
     "ename": "FileNotFoundError",
     "evalue": "[Errno 2] No such file or directory: 'data/merge_test/epoch_4/merged_evt.fits'",
     "output_type": "error",
     "traceback": [
      "\u001b[0;31m---------------------------------------------------------------------------\u001b[0m",
      "\u001b[0;31mFileNotFoundError\u001b[0m                         Traceback (most recent call last)",
      "Cell \u001b[0;32mIn[4], line 1\u001b[0m\n\u001b[0;32m----> 1\u001b[0m lightcurve_flux(\u001b[39mrange\u001b[39;49m(\u001b[39m12\u001b[39;49m))\n",
      "Cell \u001b[0;32mIn[3], line 144\u001b[0m, in \u001b[0;36mlightcurve_flux\u001b[0;34m(epoch_in_list)\u001b[0m\n\u001b[1;32m    142\u001b[0m flux_list\u001b[39m.\u001b[39mappend(flux)\n\u001b[1;32m    143\u001b[0m yerr_list\u001b[39m.\u001b[39mappend((ub\u001b[39m-\u001b[39mlb)\u001b[39m/\u001b[39m\u001b[39m2\u001b[39m)\n\u001b[0;32m--> 144\u001b[0m [t,exp_time] \u001b[39m=\u001b[39m spreadsheet\u001b[39m.\u001b[39;49mepoch_header_parse(epoch)\n\u001b[1;32m    145\u001b[0m t_list\u001b[39m.\u001b[39mappend(t)\n\u001b[1;32m    146\u001b[0m xerr_list\u001b[39m.\u001b[39mappend(exp_time\u001b[39m/\u001b[39m(\u001b[39m24\u001b[39m\u001b[39m*\u001b[39m\u001b[39m3600\u001b[39m))\n",
      "File \u001b[0;32m~/HighEnergy/ASTR6880Project/spreadsheet.py:40\u001b[0m, in \u001b[0;36mepoch_header_parse\u001b[0;34m(epoch)\u001b[0m\n\u001b[1;32m     37\u001b[0m t_peak \u001b[39m=\u001b[39m t_0_mjd \u001b[39m+\u001b[39m \u001b[39m160\u001b[39m\n\u001b[1;32m     39\u001b[0m infile \u001b[39m=\u001b[39m \u001b[39mf\u001b[39m\u001b[39m'\u001b[39m\u001b[39mdata/merge_test/epoch_\u001b[39m\u001b[39m{\u001b[39;00mepoch\u001b[39m+\u001b[39m\u001b[39m4\u001b[39m\u001b[39m}\u001b[39;00m\u001b[39m/merged_evt.fits\u001b[39m\u001b[39m'\u001b[39m\n\u001b[0;32m---> 40\u001b[0m \u001b[39mwith\u001b[39;00m fits\u001b[39m.\u001b[39;49mopen(infile) \u001b[39mas\u001b[39;00m f:\n\u001b[1;32m     41\u001b[0m     exp_time \u001b[39m=\u001b[39m f[\u001b[39m1\u001b[39m]\u001b[39m.\u001b[39mheader[\u001b[39m'\u001b[39m\u001b[39mTSTOP\u001b[39m\u001b[39m'\u001b[39m] \u001b[39m-\u001b[39m f[\u001b[39m1\u001b[39m]\u001b[39m.\u001b[39mheader[\u001b[39m'\u001b[39m\u001b[39mTSTART\u001b[39m\u001b[39m'\u001b[39m]\n\u001b[1;32m     42\u001b[0m     exp_time_print \u001b[39m=\u001b[39m \u001b[39mround\u001b[39m(exp_time\u001b[39m/\u001b[39m\u001b[39m1000\u001b[39m,\u001b[39mNone\u001b[39;00m) \u001b[39m#converts to integer in kiloseconds\u001b[39;00m\n",
      "File \u001b[0;32m~/miniconda3/envs/ciao-4.15/lib/python3.10/site-packages/astropy/io/fits/hdu/hdulist.py:175\u001b[0m, in \u001b[0;36mfitsopen\u001b[0;34m(name, mode, memmap, save_backup, cache, lazy_load_hdus, ignore_missing_simple, **kwargs)\u001b[0m\n\u001b[1;32m    172\u001b[0m \u001b[39mif\u001b[39;00m \u001b[39mnot\u001b[39;00m name:\n\u001b[1;32m    173\u001b[0m     \u001b[39mraise\u001b[39;00m \u001b[39mValueError\u001b[39;00m(\u001b[39mf\u001b[39m\u001b[39m'\u001b[39m\u001b[39mEmpty filename: \u001b[39m\u001b[39m{\u001b[39;00mname\u001b[39m!r}\u001b[39;00m\u001b[39m'\u001b[39m)\n\u001b[0;32m--> 175\u001b[0m \u001b[39mreturn\u001b[39;00m HDUList\u001b[39m.\u001b[39;49mfromfile(name, mode, memmap, save_backup, cache,\n\u001b[1;32m    176\u001b[0m                         lazy_load_hdus, ignore_missing_simple, \u001b[39m*\u001b[39;49m\u001b[39m*\u001b[39;49mkwargs)\n",
      "File \u001b[0;32m~/miniconda3/envs/ciao-4.15/lib/python3.10/site-packages/astropy/io/fits/hdu/hdulist.py:410\u001b[0m, in \u001b[0;36mHDUList.fromfile\u001b[0;34m(cls, fileobj, mode, memmap, save_backup, cache, lazy_load_hdus, ignore_missing_simple, **kwargs)\u001b[0m\n\u001b[1;32m    398\u001b[0m \u001b[39m@classmethod\u001b[39m\n\u001b[1;32m    399\u001b[0m \u001b[39mdef\u001b[39;00m \u001b[39mfromfile\u001b[39m(\u001b[39mcls\u001b[39m, fileobj, mode\u001b[39m=\u001b[39m\u001b[39mNone\u001b[39;00m, memmap\u001b[39m=\u001b[39m\u001b[39mNone\u001b[39;00m,\n\u001b[1;32m    400\u001b[0m              save_backup\u001b[39m=\u001b[39m\u001b[39mFalse\u001b[39;00m, cache\u001b[39m=\u001b[39m\u001b[39mTrue\u001b[39;00m, lazy_load_hdus\u001b[39m=\u001b[39m\u001b[39mTrue\u001b[39;00m,\n\u001b[1;32m    401\u001b[0m              ignore_missing_simple\u001b[39m=\u001b[39m\u001b[39mFalse\u001b[39;00m, \u001b[39m*\u001b[39m\u001b[39m*\u001b[39mkwargs):\n\u001b[1;32m    402\u001b[0m \u001b[39m    \u001b[39m\u001b[39m\"\"\"\u001b[39;00m\n\u001b[1;32m    403\u001b[0m \u001b[39m    Creates an `HDUList` instance from a file-like object.\u001b[39;00m\n\u001b[1;32m    404\u001b[0m \n\u001b[0;32m   (...)\u001b[0m\n\u001b[1;32m    407\u001b[0m \u001b[39m    documentation for details of the parameters accepted by this method).\u001b[39;00m\n\u001b[1;32m    408\u001b[0m \u001b[39m    \"\"\"\u001b[39;00m\n\u001b[0;32m--> 410\u001b[0m     \u001b[39mreturn\u001b[39;00m \u001b[39mcls\u001b[39;49m\u001b[39m.\u001b[39;49m_readfrom(fileobj\u001b[39m=\u001b[39;49mfileobj, mode\u001b[39m=\u001b[39;49mmode, memmap\u001b[39m=\u001b[39;49mmemmap,\n\u001b[1;32m    411\u001b[0m                          save_backup\u001b[39m=\u001b[39;49msave_backup, cache\u001b[39m=\u001b[39;49mcache,\n\u001b[1;32m    412\u001b[0m                          ignore_missing_simple\u001b[39m=\u001b[39;49mignore_missing_simple,\n\u001b[1;32m    413\u001b[0m                          lazy_load_hdus\u001b[39m=\u001b[39;49mlazy_load_hdus, \u001b[39m*\u001b[39;49m\u001b[39m*\u001b[39;49mkwargs)\n",
      "File \u001b[0;32m~/miniconda3/envs/ciao-4.15/lib/python3.10/site-packages/astropy/io/fits/hdu/hdulist.py:1060\u001b[0m, in \u001b[0;36mHDUList._readfrom\u001b[0;34m(cls, fileobj, data, mode, memmap, cache, lazy_load_hdus, ignore_missing_simple, **kwargs)\u001b[0m\n\u001b[1;32m   1057\u001b[0m \u001b[39mif\u001b[39;00m fileobj \u001b[39mis\u001b[39;00m \u001b[39mnot\u001b[39;00m \u001b[39mNone\u001b[39;00m:\n\u001b[1;32m   1058\u001b[0m     \u001b[39mif\u001b[39;00m \u001b[39mnot\u001b[39;00m \u001b[39misinstance\u001b[39m(fileobj, _File):\n\u001b[1;32m   1059\u001b[0m         \u001b[39m# instantiate a FITS file object (ffo)\u001b[39;00m\n\u001b[0;32m-> 1060\u001b[0m         fileobj \u001b[39m=\u001b[39m _File(fileobj, mode\u001b[39m=\u001b[39;49mmode, memmap\u001b[39m=\u001b[39;49mmemmap, cache\u001b[39m=\u001b[39;49mcache)\n\u001b[1;32m   1061\u001b[0m     \u001b[39m# The Astropy mode is determined by the _File initializer if the\u001b[39;00m\n\u001b[1;32m   1062\u001b[0m     \u001b[39m# supplied mode was None\u001b[39;00m\n\u001b[1;32m   1063\u001b[0m     mode \u001b[39m=\u001b[39m fileobj\u001b[39m.\u001b[39mmode\n",
      "File \u001b[0;32m~/miniconda3/envs/ciao-4.15/lib/python3.10/site-packages/astropy/io/fits/file.py:170\u001b[0m, in \u001b[0;36m_File.__init__\u001b[0;34m(self, fileobj, mode, memmap, overwrite, cache)\u001b[0m\n\u001b[1;32m    168\u001b[0m     \u001b[39mself\u001b[39m\u001b[39m.\u001b[39m_open_fileobj(fileobj, mode, overwrite)\n\u001b[1;32m    169\u001b[0m \u001b[39melif\u001b[39;00m \u001b[39misinstance\u001b[39m(fileobj, (\u001b[39mstr\u001b[39m, \u001b[39mbytes\u001b[39m)):\n\u001b[0;32m--> 170\u001b[0m     \u001b[39mself\u001b[39;49m\u001b[39m.\u001b[39;49m_open_filename(fileobj, mode, overwrite)\n\u001b[1;32m    171\u001b[0m \u001b[39melse\u001b[39;00m:\n\u001b[1;32m    172\u001b[0m     \u001b[39mself\u001b[39m\u001b[39m.\u001b[39m_open_filelike(fileobj, mode, overwrite)\n",
      "File \u001b[0;32m~/miniconda3/envs/ciao-4.15/lib/python3.10/site-packages/astropy/io/fits/file.py:562\u001b[0m, in \u001b[0;36m_File._open_filename\u001b[0;34m(self, filename, mode, overwrite)\u001b[0m\n\u001b[1;32m    559\u001b[0m ext \u001b[39m=\u001b[39m os\u001b[39m.\u001b[39mpath\u001b[39m.\u001b[39msplitext(\u001b[39mself\u001b[39m\u001b[39m.\u001b[39mname)[\u001b[39m1\u001b[39m]\n\u001b[1;32m    561\u001b[0m \u001b[39mif\u001b[39;00m \u001b[39mnot\u001b[39;00m \u001b[39mself\u001b[39m\u001b[39m.\u001b[39m_try_read_compressed(\u001b[39mself\u001b[39m\u001b[39m.\u001b[39mname, magic, mode, ext\u001b[39m=\u001b[39mext):\n\u001b[0;32m--> 562\u001b[0m     \u001b[39mself\u001b[39m\u001b[39m.\u001b[39m_file \u001b[39m=\u001b[39m \u001b[39mopen\u001b[39;49m(\u001b[39mself\u001b[39;49m\u001b[39m.\u001b[39;49mname, IO_FITS_MODES[mode])\n\u001b[1;32m    563\u001b[0m     \u001b[39mself\u001b[39m\u001b[39m.\u001b[39mclose_on_error \u001b[39m=\u001b[39m \u001b[39mTrue\u001b[39;00m\n\u001b[1;32m    565\u001b[0m \u001b[39m# Make certain we're back at the beginning of the file\u001b[39;00m\n\u001b[1;32m    566\u001b[0m \u001b[39m# BZ2File does not support seek when the file is open for writing, but\u001b[39;00m\n\u001b[1;32m    567\u001b[0m \u001b[39m# when opening a file for write, bz2.BZ2File always truncates anyway.\u001b[39;00m\n",
      "\u001b[0;31mFileNotFoundError\u001b[0m: [Errno 2] No such file or directory: 'data/merge_test/epoch_4/merged_evt.fits'"
     ]
    }
   ],
   "source": [
    "lightcurve_flux(range(12))"
   ]
  },
  {
   "cell_type": "code",
   "execution_count": 3,
   "metadata": {},
   "outputs": [
    {
     "name": "stdout",
     "output_type": "stream",
     "text": [
      "\n",
      "Epoch: 4\n",
      "data/20860/repro/acisf20860_repro_evt2.fits, data/20861/repro/acisf20861_repro_evt2.fits\n"
     ]
    },
    {
     "ename": "KeyboardInterrupt",
     "evalue": "",
     "output_type": "error",
     "traceback": [
      "\u001b[0;31m---------------------------------------------------------------------------\u001b[0m",
      "\u001b[0;31mKeyboardInterrupt\u001b[0m                         Traceback (most recent call last)",
      "Cell \u001b[0;32mIn[3], line 7\u001b[0m\n\u001b[1;32m      1\u001b[0m \u001b[39m#reproject(20936, 20860)\u001b[39;00m\n\u001b[1;32m      2\u001b[0m \u001b[39m#obsid = 20861\u001b[39;00m\n\u001b[1;32m      3\u001b[0m \u001b[39m#[count, lb, ub] = region_count(obsid)\u001b[39;00m\n\u001b[1;32m      4\u001b[0m \u001b[39m#print(f'Obs ID {obsid} observed a count rate of {count} c/s')\u001b[39;00m\n\u001b[1;32m      6\u001b[0m \u001b[39mfrom\u001b[39;00m \u001b[39mspreadsheet\u001b[39;00m \u001b[39mimport\u001b[39;00m epoch_obsid_list \u001b[39mas\u001b[39;00m eol\n\u001b[0;32m----> 7\u001b[0m merge_obsids_into_epoch(eol)\n\u001b[1;32m      9\u001b[0m \u001b[39m#merge_observations([20860, 20936])\u001b[39;00m\n",
      "Cell \u001b[0;32mIn[1], line 106\u001b[0m, in \u001b[0;36mmerge_obsids_into_epoch\u001b[0;34m(obsid_in_list)\u001b[0m\n\u001b[1;32m    104\u001b[0m mrgobs\u001b[39m.\u001b[39moutroot \u001b[39m=\u001b[39m \u001b[39mf\u001b[39m\u001b[39m'\u001b[39m\u001b[39mdata/merge_test/epoch_\u001b[39m\u001b[39m{\u001b[39;00mepoch\u001b[39m}\u001b[39;00m\u001b[39m/\u001b[39m\u001b[39m'\u001b[39m\n\u001b[1;32m    105\u001b[0m mrgobs\u001b[39m.\u001b[39mclobber\u001b[39m=\u001b[39m\u001b[39m'\u001b[39m\u001b[39myes\u001b[39m\u001b[39m'\u001b[39m\n\u001b[0;32m--> 106\u001b[0m mrgobs()\n\u001b[1;32m    107\u001b[0m epoch \u001b[39m+\u001b[39m\u001b[39m=\u001b[39m\u001b[39m1\u001b[39m\n",
      "File \u001b[0;32m/opt/anaconda3/envs/ciao-4.15/lib/python3.10/site-packages/ciao_contrib/runtool.py:1839\u001b[0m, in \u001b[0;36mCIAOToolParFile.__call__\u001b[0;34m(self, *args, **kwargs)\u001b[0m\n\u001b[1;32m   1837\u001b[0m \u001b[39mself\u001b[39m\u001b[39m.\u001b[39m_display_command_line()\n\u001b[1;32m   1838\u001b[0m _log_par_file_contents(parfile)\n\u001b[0;32m-> 1839\u001b[0m (rval, sout) \u001b[39m=\u001b[39m \u001b[39mself\u001b[39;49m\u001b[39m.\u001b[39;49m_run(parfile)\n\u001b[1;32m   1840\u001b[0m _log_par_file_contents(parfile)\n\u001b[1;32m   1842\u001b[0m \u001b[39mif\u001b[39;00m rval \u001b[39m==\u001b[39m \u001b[39m0\u001b[39m:\n",
      "File \u001b[0;32m/opt/anaconda3/envs/ciao-4.15/lib/python3.10/site-packages/ciao_contrib/runtool.py:1813\u001b[0m, in \u001b[0;36mCIAOToolParFile._run\u001b[0;34m(self, parfile)\u001b[0m\n\u001b[1;32m   1806\u001b[0m \u001b[39m# As stderr is merged into stdout, only need to care about the\u001b[39;00m\n\u001b[1;32m   1807\u001b[0m \u001b[39m# first item returned by communicate.\u001b[39;00m\n\u001b[1;32m   1808\u001b[0m proc \u001b[39m=\u001b[39m subprocess\u001b[39m.\u001b[39mPopen([\u001b[39mself\u001b[39m\u001b[39m.\u001b[39m_toolname,\n\u001b[1;32m   1809\u001b[0m                          \u001b[39mf\u001b[39m\u001b[39m\"\u001b[39m\u001b[39m@@\u001b[39m\u001b[39m{\u001b[39;00mparfile\u001b[39m}\u001b[39;00m\u001b[39m\"\u001b[39m,\n\u001b[1;32m   1810\u001b[0m                          \u001b[39m\"\u001b[39m\u001b[39mmode=hl\u001b[39m\u001b[39m\"\u001b[39m],\n\u001b[1;32m   1811\u001b[0m                         stdout\u001b[39m=\u001b[39msubprocess\u001b[39m.\u001b[39mPIPE,\n\u001b[1;32m   1812\u001b[0m                         stderr\u001b[39m=\u001b[39msubprocess\u001b[39m.\u001b[39mSTDOUT)\n\u001b[0;32m-> 1813\u001b[0m out \u001b[39m=\u001b[39m proc\u001b[39m.\u001b[39;49mcommunicate()\n\u001b[1;32m   1814\u001b[0m sout \u001b[39m=\u001b[39m out[\u001b[39m0\u001b[39m]\u001b[39m.\u001b[39mdecode()\n\u001b[1;32m   1816\u001b[0m etime \u001b[39m=\u001b[39m time\u001b[39m.\u001b[39mlocaltime()\n",
      "File \u001b[0;32m/opt/anaconda3/envs/ciao-4.15/lib/python3.10/subprocess.py:1141\u001b[0m, in \u001b[0;36mPopen.communicate\u001b[0;34m(self, input, timeout)\u001b[0m\n\u001b[1;32m   1139\u001b[0m     \u001b[39mself\u001b[39m\u001b[39m.\u001b[39m_stdin_write(\u001b[39minput\u001b[39m)\n\u001b[1;32m   1140\u001b[0m \u001b[39melif\u001b[39;00m \u001b[39mself\u001b[39m\u001b[39m.\u001b[39mstdout:\n\u001b[0;32m-> 1141\u001b[0m     stdout \u001b[39m=\u001b[39m \u001b[39mself\u001b[39;49m\u001b[39m.\u001b[39;49mstdout\u001b[39m.\u001b[39;49mread()\n\u001b[1;32m   1142\u001b[0m     \u001b[39mself\u001b[39m\u001b[39m.\u001b[39mstdout\u001b[39m.\u001b[39mclose()\n\u001b[1;32m   1143\u001b[0m \u001b[39melif\u001b[39;00m \u001b[39mself\u001b[39m\u001b[39m.\u001b[39mstderr:\n",
      "\u001b[0;31mKeyboardInterrupt\u001b[0m: "
     ]
    }
   ],
   "source": [
    "#reproject(20936, 20860)\n",
    "#obsid = 20861\n",
    "#[count, lb, ub] = region_count(obsid)\n",
    "#print(f'Obs ID {obsid} observed a count rate of {count} c/s')\n",
    "\n",
    "from spreadsheet import epoch_obsid_list as eol\n",
    "merge_obsids_into_epoch(eol)\n",
    "\n",
    "#merge_observations([20860, 20936])"
   ]
  },
  {
   "cell_type": "code",
   "execution_count": null,
   "metadata": {},
   "outputs": [
    {
     "name": "stdout",
     "output_type": "stream",
     "text": [
      "data/20860/repro/acisf20860_repro_evt2.fits,data/20861/repro/acisf20861_repro_evt2.fits\n",
      "data/20936/repro/acisf20936_repro_evt2.fits,data/20937/repro/acisf20937_repro_evt2.fits,data/20938/repro/acisf20938_repro_evt2.fits,data/20939/repro/acisf20939_repro_evt2.fits,data/20945/repro/acisf20945_repro_evt2.fits\n",
      "data/21080/repro/acisf21080_repro_evt2.fits,data/21090/repro/acisf21090_repro_evt2.fits\n",
      "data/21371/repro/acisf21371_repro_evt2.fits\n",
      "data/21322/repro/acisf21322_repro_evt2.fits,data/22157/repro/acisf22157_repro_evt2.fits,data/22158/repro/acisf22158_repro_evt2.fits\n",
      "data/21372/repro/acisf21372_repro_evt2.fits,data/22736/repro/acisf22736_repro_evt2.fits,data/22737/repro/acisf22737_repro_evt2.fits\n",
      "data/21323/repro/acisf21323_repro_evt2.fits,data/23183/repro/acisf23183_repro_evt2.fits,data/23184/repro/acisf23184_repro_evt2.fits,data/23185/repro/acisf23185_repro_evt2.fits\n",
      "data/22677/repro/acisf22677_repro_evt2.fits,data/24887/repro/acisf24887_repro_evt2.fits,data/24888/repro/acisf24888_repro_evt2.fits,data/24889/repro/acisf24889_repro_evt2.fits\n",
      "data/23870/repro/acisf23870_repro_evt2.fits,data/24923/repro/acisf24923_repro_evt2.fits,data/24924/repro/acisf24924_repro_evt2.fits\n",
      "data/23869/repro/acisf23869_repro_evt2.fits,data/26223/repro/acisf26223_repro_evt2.fits,data/24336/repro/acisf24336_repro_evt2.fits,data/24337/repro/acisf24337_repro_evt2.fits\n",
      "data/25733/repro/acisf25733_repro_evt2.fits,data/25734/repro/acisf25734_repro_evt2.fits,data/25527/repro/acisf25527_repro_evt2.fits\n",
      "data/27088/repro/acisf27088_repro_evt2.fits,data/27089/repro/acisf27089_repro_evt2.fits,data/27090/repro/acisf27090_repro_evt2.fits,data/27731/repro/acisf27731_repro_evt2.fits,data/27091/repro/acisf27091_repro_evt2.fits,data/25528/repro/acisf25528_repro_evt2.fits,data/27752/repro/acisf27752_repro_evt2.fits,data/27753/repro/acisf27753_repro_evt2.fits,data/27754/repro/acisf27754_repro_evt2.fits\n"
     ]
    },
    {
     "data": {
      "text/plain": [
       "()"
      ]
     },
     "execution_count": 22,
     "metadata": {},
     "output_type": "execute_result"
    },
    {
     "data": {
      "image/png": "[encoded data removed]",
      "text/plain": [
       "<Figure size 640x480 with 1 Axes>"
      ]
     },
     "metadata": {},
     "output_type": "display_data"
    }
   ],
   "source": [
    "from spreadsheet import epoch_obsid_list as eol\n",
    "lightcurve_counts(range(len(eol)))\n"
   ]
  },
  {
   "cell_type": "code",
   "execution_count": null,
   "metadata": {},
   "outputs": [],
   "source": []
  }
 ],
 "metadata": {
  "kernelspec": {
   "display_name": "Python 3.10.8 ('ciao-4.15')",
   "language": "python",
   "name": "python3"
  },
  "language_info": {
   "codemirror_mode": {
    "name": "ipython",
    "version": 3
   },
   "file_extension": ".py",
   "mimetype": "text/x-python",
   "name": "python",
   "nbconvert_exporter": "python",
   "pygments_lexer": "ipython3",
   "version": "3.10.8"
  },
  "orig_nbformat": 4,
  "vscode": {
   "interpreter": {
    "hash": "aa0ed6ea5fdefd83fab7eb4cb6966f67b14a46d682529109a8514cc91561ea32"
   }
  }
 },
 "nbformat": 4,
 "nbformat_minor": 2
}
