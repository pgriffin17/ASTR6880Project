{
 "cells": [
  {
   "cell_type": "code",
   "execution_count": 1,
   "metadata": {},
   "outputs": [],
   "source": [
    "import ciao_contrib.runtool as rt\n",
    "import sherpa.astro.ui as ui\n",
    "import numpy as np\n",
    "import matplotlib.pyplot as plt\n",
    "\n"
   ]
  },
  {
   "attachments": {},
   "cell_type": "markdown",
   "metadata": {},
   "source": [
    "If all files use the same WCS coordinates, we can rename the region('blah') to just be that one single file, which would be helpful."
   ]
  },
  {
   "cell_type": "code",
   "execution_count": 36,
   "metadata": {},
   "outputs": [],
   "source": [
    "def extract_spec(obsid):\n",
    "    '''\n",
    "    Extract the spectrum from the evt2 file and save into the data folder\n",
    "    with the name of the observation ID followed by GW170817.\n",
    "\n",
    "    Parameters\n",
    "    ----------\n",
    "    obsid : int\n",
    "        The observation ID of the data to be extracted\n",
    "\n",
    "    Returns\n",
    "    -------\n",
    "    None\n",
    "    '''\n",
    "    spec = rt.specextract\n",
    "    spec.punlearn()\n",
    "    spec.infile = f'data/{obsid}/repro/acisf{obsid}_repro_evt2.fits[sky=region(data/{obsid}/repro/srcwcs.reg)]'\n",
    "    spec.bkgfile = f'data/{obsid}/repro/acisf{obsid}_repro_evt2.fits[sky=region(data/{obsid}/repro/bkgwcs.reg)]'\n",
    "    spec.outroot = f'data/{obsid}/GW170817/GW170817'\n",
    "    spec.correctpsf = 'yes'\n",
    "    spec.weight = 'no'\n",
    "    spec()"
   ]
  },
  {
   "cell_type": "markdown",
   "metadata": {},
   "source": []
  },
  {
   "cell_type": "code",
   "execution_count": 37,
   "metadata": {},
   "outputs": [],
   "source": [
    "extract_spec(20860)"
   ]
  }
 ],
 "metadata": {
  "kernelspec": {
   "display_name": "ciao-4.15",
   "language": "python",
   "name": "python3"
  },
  "language_info": {
   "codemirror_mode": {
    "name": "ipython",
    "version": 3
   },
   "file_extension": ".py",
   "mimetype": "text/x-python",
   "name": "python",
   "nbconvert_exporter": "python",
   "pygments_lexer": "ipython3",
   "version": "3.10.8"
  },
  "orig_nbformat": 4
 },
 "nbformat": 4,
 "nbformat_minor": 2
}
