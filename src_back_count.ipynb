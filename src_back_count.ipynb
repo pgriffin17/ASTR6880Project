{
 "cells": [
  {
   "cell_type": "code",
   "execution_count": 1,
   "metadata": {},
   "outputs": [],
   "source": [
    "import ciao_contrib.runtool as rt\n",
    "import sherpa.astro.ui as ui\n",
    "import numpy as np\n",
    "import matplotlib.pyplot as plt\n",
    "import os\n",
    "import re\n",
    "\n",
    "#astropy is used to read WCS position information from fits files for region_count\n",
    "from astropy.io import fits\n",
    "from astropy import wcs\n",
    "from astropy import units as u\n",
    "from astropy.coordinates import SkyCoord, Distance\n",
    "\n",
    "#spreadsheet is used to store the list of obsids by epoch and read the obs header information for lightcurve_counts\n",
    "import spreadsheet\n",
    "\n",
    "%matplotlib widget\n",
    "\n",
    "\n",
    "def region_count(epoch_in):\n",
    "    '''\n",
    "    write _summary.txt files with the count rate and upper and lower bounds on the 90% confidence interval\n",
    "    '''\n",
    "    srcflx = rt.srcflux\n",
    "    srcflx.punlearn() #Restore the system defaults for a CIAO parameter file.\n",
    "    srcflx.infile = f'data/merge_test/epoch_{epoch_in}/merged_evt.fits'\n",
    "    #with fits.open(srcflx.infile) as f:\n",
    "        #loc = SkyCoord(f[1].header['RA_NOM']*u.deg,f[1].header['DEC_NOM']*u.deg)\n",
    "        #loc_str = loc.ra.to_string(unit=u.hourangle, sep=':', pad=True, precision=2) + \" \" + loc.dec.to_string(unit=u.degree, sep=':', pad=True, precision=2)\n",
    "    #srcflx.pos = loc_str #Reads RA, DEC columns as a position in sexagesimal \"degree:arcmin:arcsec\" format\n",
    "    srcflx.pos = '13:09:48.0597,-23:22:52.836'\n",
    "    srcflx.outroot = f'data/merge_test/epoch_{epoch_in}/srcflux_products/'\n",
    "    srcflx.srcreg = f'regions/srcwcs.reg' #region used to calculate the source counts\n",
    "    srcflx.bkgreg = f'regions/bkgwcs.reg'#region used to calculate the background counts\n",
    "    srcflx.clobber = 'yes'\n",
    "    srcflx.verbose = 0 #Default =1, 0 suppresses the long print statement\n",
    "    srcflx() ## produces \"_summary.txt\" file with the output data parsed by read_counts\n",
    "\n",
    "def merged_region_count(obsid_row,epoch_in):\n",
    "    '''\n",
    "    write _summary.txt files for merged observations\n",
    "    '''\n",
    "    srcflx = rt.srcflux\n",
    "    srcflx.punlearn() #Restore the system defaults for a CIAO parameter file.\n",
    "    srcflx.infile = str()\n",
    "    for obsid in obsid_row:\n",
    "        if srcflx.infile is None:\n",
    "            srcflx.infile = f'data/{obsid}/repro/acisf{obsid}_repro_evt2.fits'\n",
    "        else:\n",
    "            srcflx.infile += f',data/{obsid}/repro/acisf{obsid}_repro_evt2.fits' ## includes leading comma\n",
    "    print(srcflx.infile)\n",
    "    srcflx.pos = '13:09:48.0597,-23:22:52.836'\n",
    "    srcflx.outroot = f'data/epoch_{epoch_in}_srcflux_products/'\n",
    "    srcflx.srcreg = f'regions/srcwcs.reg' #region used to calculate the source counts\n",
    "    srcflx.bkgreg = f'regions/bkgwcs.reg'#region used to calculate the background counts\n",
    "    srcflx.clobber = 'yes'\n",
    "    srcflx.verbose = 0 #Default =1, 0 suppresses the long print statement\n",
    "    srcflx() ## produces \"_summary.txt\" file with the output data parsed by read_counts\n",
    "    \n",
    "def read_counts(epoch):\n",
    "    #filename = f'data/merge_test/epoch_{epoch}/srcflux_products/_summary.txt'\n",
    "    filename = f'data/epoch_{epoch}_srcflux_products/_summary.txt'\n",
    "    if not os.path.isfile(filename):\n",
    "        obsid_row = spreadsheet.epoch_obsid_list[epoch] ## epoch needs to index from 0\n",
    "        merged_region_count(obsid_row, epoch)\n",
    "    with open(filename, encoding='utf-8') as f:\n",
    "        for line in f:\n",
    "            count_rate_match = re.search(r'[\\d\\.E\\-]*\\s(c/s)',line)\n",
    "            lb_match = re.search(r'\\([\\d\\.E\\-]*\\,', line)\n",
    "            ub_match = re.search(r'\\,[\\d\\.E\\-]*\\)', line)\n",
    "            #0001|13 9 48.47 -23 22 58.4  Rate           0.0014 c/s (0.00104,0.00183)      \n",
    "            if count_rate_match:\n",
    "                cr = float(count_rate_match.group(0)[0:-4])\n",
    "                lb = float(lb_match.group(0)[1:-1])\n",
    "                ub = float(ub_match.group(0)[1:-1])\n",
    "                return(cr, lb, ub)\n",
    "\n",
    "\n",
    "def merge_obsids_into_epoch(obsid_in_list):\n",
    "    '''\n",
    "    params\n",
    "    ------\n",
    "    obsid_in_list : list\n",
    "        List of observation IDs to be merged\n",
    "\n",
    "    returns\n",
    "    -------\n",
    "    None\n",
    "    '''\n",
    "    ## previously used flxobs()\n",
    "    mrgobs = rt.merge_obs\n",
    "    epoch=4\n",
    "    for obsid_row in obsid_in_list:\n",
    "        mrgobs.punlearn()\n",
    "        mrgobs.infiles = str()\n",
    "        for obsid in obsid_row:\n",
    "            if mrgobs.infiles is None:\n",
    "                mrgobs.infiles = f'data/{obsid}/repro/acisf{obsid}_repro_evt2.fits'\n",
    "            else:\n",
    "                mrgobs.infiles += f', data/{obsid}/repro/acisf{obsid}_repro_evt2.fits' ## includes leading comma\n",
    "        print('\\nEpoch: '+str(epoch))\n",
    "        print(mrgobs.infiles)\n",
    "\n",
    "        mrgobs.outroot = f'data/merge_test/epoch_{epoch}/'\n",
    "        mrgobs.clobber='yes'\n",
    "        mrgobs()\n",
    "        epoch +=1\n",
    "\n",
    "def lightcurve_counts(epoch_in_list):\n",
    "    '''\n",
    "    produce a light curve of count rate vs time\n",
    "    '''\n",
    "    counts_list = []\n",
    "    t_list = epoch_in_list\n",
    "    yerr_list = []\n",
    "    xerr_list = []\n",
    "    for epoch in epoch_in_list:\n",
    "        [count, lb, ub] = read_counts(epoch)\n",
    "        counts_list.append(count*10000)\n",
    "        yerr_list.append(ub-lb)\n",
    "        #[t_t0,exp_time]=spreadsheet.epoch_header_parse(epoch)\n",
    "        #t_list.append(t_t0)\n",
    "        #xerr_list.append(exp_time/(3600*24)) ## convert observation times to days\n",
    "    \n",
    "    fig = plt.figure()\n",
    "    plt.errorbar(t_list, counts_list, fmt='bo', yerr=yerr_list)    \n",
    "    #log scale on y axis\n",
    "    plt.yscale('log')\n",
    "    return()"
   ]
  },
  {
   "cell_type": "code",
   "execution_count": null,
   "metadata": {},
   "outputs": [],
   "source": [
    "#reproject(20936, 20860)\n",
    "#obsid = 20861\n",
    "#[count, lb, ub] = region_count(obsid)\n",
    "#print(f'Obs ID {obsid} observed a count rate of {count} c/s')\n",
    "\n",
    "from spreadsheet import epoch_obsid_list as eol\n",
    "merge_obsids_into_epoch(eol)\n",
    "\n",
    "#merge_observations([20860, 20936])"
   ]
  },
  {
   "cell_type": "code",
   "execution_count": 2,
   "metadata": {},
   "outputs": [
    {
     "data": {
      "text/plain": [
       "()"
      ]
     },
     "execution_count": 2,
     "metadata": {},
     "output_type": "execute_result"
    },
    {
     "data": {
      "application/vnd.jupyter.widget-view+json": {
       "model_id": "17125fd72d5f496db1c305e0b542fdb6",
       "version_major": 2,
       "version_minor": 0
      },
      "image/png": "[encoded data removed]",
      "text/html": [
       "\n",
       "            <div style=\"display: inline-block;\">\n",
       "                <div class=\"jupyter-widgets widget-label\" style=\"text-align: center;\">\n",
       "                    Figure\n",
       "                </div>\n",
       "                <img src='data:image/png;base64,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' width=640.0/>\n",
       "            </div>\n",
       "        "
      ],
      "text/plain": [
       "Canvas(toolbar=Toolbar(toolitems=[('Home', 'Reset original view', 'home', 'home'), ('Back', 'Back to previous …"
      ]
     },
     "metadata": {},
     "output_type": "display_data"
    }
   ],
   "source": [
    "from spreadsheet import epoch_obsid_list as eol\n",
    "lightcurve_counts(range(len(eol)))\n"
   ]
  },
  {
   "cell_type": "code",
   "execution_count": null,
   "metadata": {},
   "outputs": [],
   "source": []
  }
 ],
 "metadata": {
  "kernelspec": {
   "display_name": "Python 3.10.8 ('ciao-4.15')",
   "language": "python",
   "name": "python3"
  },
  "language_info": {
   "codemirror_mode": {
    "name": "ipython",
    "version": 3
   },
   "file_extension": ".py",
   "mimetype": "text/x-python",
   "name": "python",
   "nbconvert_exporter": "python",
   "pygments_lexer": "ipython3",
   "version": "3.10.8"
  },
  "orig_nbformat": 4,
  "vscode": {
   "interpreter": {
    "hash": "aa0ed6ea5fdefd83fab7eb4cb6966f67b14a46d682529109a8514cc91561ea32"
   }
  }
 },
 "nbformat": 4,
 "nbformat_minor": 2
}
