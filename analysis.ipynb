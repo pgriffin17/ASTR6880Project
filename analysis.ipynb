{
 "cells": [
  {
   "cell_type": "code",
   "execution_count": 11,
   "metadata": {},
   "outputs": [],
   "source": [
    "import ciao_contrib.runtool as rt\n",
    "import sherpa.astro.ui as ui\n",
    "import numpy as np\n",
    "import matplotlib.pyplot as plt\n",
    "import os"
   ]
  },
  {
   "attachments": {},
   "cell_type": "markdown",
   "metadata": {},
   "source": [
    "If all files use the same WCS coordinates, we can rename the region('blah') to just be that one single file, which would be helpful."
   ]
  },
  {
   "cell_type": "code",
   "execution_count": 10,
   "metadata": {},
   "outputs": [],
   "source": [
    "def extract_spec(obsid):\n",
    "    '''\n",
    "    Extract the spectrum from the evt2 file and save into the data folder\n",
    "    with the name of the observation ID followed by GW170817.\n",
    "\n",
    "    Parameters\n",
    "    ----------\n",
    "    obsid : int\n",
    "        The observation ID of the data to be extracted\n",
    "\n",
    "    Returns\n",
    "    -------\n",
    "    None\n",
    "    '''\n",
    "    spec = rt.specextract\n",
    "    spec.punlearn()\n",
    "    spec.infile = f'data/{obsid}/repro/acisf{obsid}_repro_evt2.fits[sky=region(data/{obsid}/repro/srcwcs.reg)]'\n",
    "    spec.bkgfile = f'data/{obsid}/repro/acisf{obsid}_repro_evt2.fits[sky=region(data/{obsid}/repro/bkgwcs.reg)]'\n",
    "    spec.outroot = f'data/{obsid}/GW170817/GW170817'\n",
    "    spec.correctpsf = 'yes'\n",
    "    spec.weight = 'no'\n",
    "    spec()"
   ]
  },
  {
   "cell_type": "code",
   "execution_count": 37,
   "metadata": {},
   "outputs": [],
   "source": [
    "extract_spec(20861)"
   ]
  },
  {
   "cell_type": "code",
   "execution_count": 2,
   "metadata": {},
   "outputs": [
    {
     "data": {
      "text/plain": [
       "<CIAO tool: celldetect>"
      ]
     },
     "execution_count": 2,
     "metadata": {},
     "output_type": "execute_result"
    }
   ],
   "source": [
    "rt.celldetect"
   ]
  },
  {
   "cell_type": "code",
   "execution_count": 14,
   "metadata": {},
   "outputs": [],
   "source": [
    "# Run detect on the evt2 file to create a source list using the celldetect method\n",
    "\n",
    "def detect_srcs(obsid):\n",
    "\n",
    "    '''\n",
    "    Run the celldetect method on the evt2 file to create a source list.\n",
    "\n",
    "    Parameters\n",
    "    ----------\n",
    "    obsid : int\n",
    "        The observation ID of the data to be extracted\n",
    "\n",
    "    Returns\n",
    "    -------\n",
    "    None\n",
    "    '''\n",
    "\n",
    "    detect = rt.celldetect\n",
    "    detect.punlearn()\n",
    "    detect.infile = f'data/{obsid}/repro/acisf{obsid}_repro_evt2.fits'\n",
    "    detect.outfile = f'data/{obsid}/GW170817/GW170817_src.fits'\n",
    "    detect.fixedcell = 9\n",
    "    detect()"
   ]
  },
  {
   "cell_type": "code",
   "execution_count": 8,
   "metadata": {},
   "outputs": [],
   "source": [
    "detect_srcs(20860)"
   ]
  },
  {
   "cell_type": "code",
   "execution_count": 12,
   "metadata": {},
   "outputs": [],
   "source": [
    "# Create GW170817 directory in data/{obsid}\n",
    "\n",
    "def create_dir(obsid):\n",
    "    \n",
    "        '''\n",
    "        Create a directory for the GW170817 data.\n",
    "    \n",
    "        Parameters\n",
    "        ----------\n",
    "        obsid : int\n",
    "            The observation ID of the data to be extracted\n",
    "    \n",
    "        Returns\n",
    "        -------\n",
    "        None\n",
    "        '''\n",
    "    \n",
    "        os.mkdir(f'data/{obsid}/GW170817')"
   ]
  },
  {
   "cell_type": "code",
   "execution_count": 13,
   "metadata": {},
   "outputs": [],
   "source": [
    "create_dir(20861)\n",
    "\n",
    "\n",
    "detect_srcs(20861)"
   ]
  },
  {
   "cell_type": "code",
   "execution_count": 21,
   "metadata": {},
   "outputs": [],
   "source": [
    "def reproject(obsid_in, obsid_ref):\n",
    "\n",
    "    reproj = rt.reproject_aspect\n",
    "    reproj.punlearn()\n",
    "    reproj.infile = f'data/{obsid_in}/GW170817/GW170817_src.fits'\n",
    "    reproj.refsrcfile = f'data/{obsid_ref}/GW170817/GW170817_src.fits'\n",
    "    reproj.updfile = f'data/{obsid_in}/repro/acisf{obsid_in}_repro_evt2.fits'\n",
    "    reproj.wcsfile = f'data/{obsid_in}/repro/acisf{obsid_in}_repro_evt2.fits'\n",
    "    reproj.outfile = f'data/{obsid_in}/GW170817/GW170817_reproj.fits'\n",
    "    reproj()"
   ]
  },
  {
   "cell_type": "code",
   "execution_count": 22,
   "metadata": {},
   "outputs": [],
   "source": [
    "reproject(20861, 20860)"
   ]
  },
  {
   "cell_type": "code",
   "execution_count": null,
   "metadata": {},
   "outputs": [],
   "source": []
  }
 ],
 "metadata": {
  "kernelspec": {
   "display_name": "ciao-4.15",
   "language": "python",
   "name": "python3"
  },
  "language_info": {
   "codemirror_mode": {
    "name": "ipython",
    "version": 3
   },
   "file_extension": ".py",
   "mimetype": "text/x-python",
   "name": "python",
   "nbconvert_exporter": "python",
   "pygments_lexer": "ipython3",
   "version": "3.10.8"
  },
  "orig_nbformat": 4
 },
 "nbformat": 4,
 "nbformat_minor": 2
}
