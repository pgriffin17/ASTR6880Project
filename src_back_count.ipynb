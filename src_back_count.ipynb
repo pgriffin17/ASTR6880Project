{
 "cells": [
  {
   "cell_type": "code",
   "execution_count": 65,
   "metadata": {},
   "outputs": [],
   "source": [
    "import ciao_contrib.runtool as rt\n",
    "import sherpa.astro.ui as ui\n",
    "import numpy as np\n",
    "import matplotlib.pyplot as plt\n",
    "import os\n",
    "\n",
    "#astropy is used to read WCS position information from fits files for region_count\n",
    "from astropy.io import fits\n",
    "from astropy import wcs\n",
    "from astropy import units as u\n",
    "from astropy.coordinates import SkyCoord, Distance\n",
    "\n",
    "\n",
    "def reproject(obsid_in, obsid_ref):\n",
    "\n",
    "    reproj = rt.reproject_aspect\n",
    "    reproj.punlearn()\n",
    "    reproj.infile = f'data/{obsid_in}/GW170817/GW170817_src_6.fits'\n",
    "    reproj.refsrcfile = f'data/{obsid_ref}/GW170817/GW170817_src_6.fits'\n",
    "    reproj.updfile = f'data/{obsid_in}/repro/acisf{obsid_in}_repro_evt2.fits'\n",
    "    reproj.wcsfile = f'data/{obsid_in}/repro/acisf{obsid_in}_repro_evt2.fits'\n",
    "    reproj.residlim = 0.5 #Half ArcSec limit\n",
    "    reproj.outfile = f'data/{obsid_in}/GW170817/GW170817_reproj.fits'\n",
    "    reproj()\n",
    "\n",
    "\n",
    "\n",
    "def region_count(obsid_in):\n",
    "\n",
    "    srcflx = rt.srcflux\n",
    "    srcflx.punlearn() #Restore the system defaults for a CIAO parameter file.\n",
    "    srcflx.infile = f'data/{obsid_in}/repro/acisf{obsid_in}_repro_evt2.fits'\n",
    "    with fits.open(srcflx.infile) as f:\n",
    "        loc = SkyCoord(f[1].header['RA_NOM']*u.deg,f[1].header['DEC_NOM']*u.deg)\n",
    "        loc_str = loc.ra.to_string(unit=u.hourangle, sep=':', pad=True, precision=2) + \" \" + loc.dec.to_string(unit=u.degree, sep=':', pad=True, precision=2)\n",
    "    srcflx.pos = loc_str #Reads RA, DEC columns as a position in sexagesimal \"degree:arcmin:arcsec\" format\n",
    "    srcflx.outroot = f'data/{obsid_in}/repro/'\n",
    "    srcflx.srcreg = f'data/20860/repro/srcwcs.reg' #region used to calculate the source counts\n",
    "    srcflx.bkgreg = f'data/20860/repro/bkgwcs.reg'#region used to calculate the background counts\n",
    "    srcflx.clobber = 'yes'\n",
    "    srcflx.verbose = 0 #Default =1, 0 suppress the long print statement\n",
    "    return(srcflx())\n"
   ]
  },
  {
   "cell_type": "code",
   "execution_count": 66,
   "metadata": {},
   "outputs": [],
   "source": [
    "#reproject(20936, 20860)\n",
    "\n",
    "region_count(20861)"
   ]
  }
 ],
 "metadata": {
  "kernelspec": {
   "display_name": "Python 3.10.8 ('ciao-4.15')",
   "language": "python",
   "name": "python3"
  },
  "language_info": {
   "codemirror_mode": {
    "name": "ipython",
    "version": 3
   },
   "file_extension": ".py",
   "mimetype": "text/x-python",
   "name": "python",
   "nbconvert_exporter": "python",
   "pygments_lexer": "ipython3",
   "version": "3.10.8"
  },
  "orig_nbformat": 4,
  "vscode": {
   "interpreter": {
    "hash": "aa0ed6ea5fdefd83fab7eb4cb6966f67b14a46d682529109a8514cc91561ea32"
   }
  }
 },
 "nbformat": 4,
 "nbformat_minor": 2
}
