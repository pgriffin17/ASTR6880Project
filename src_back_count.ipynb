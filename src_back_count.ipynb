{
 "cells": [
  {
   "cell_type": "code",
   "execution_count": 8,
   "metadata": {},
   "outputs": [],
   "source": [
    "import ciao_contrib.runtool as rt\n",
    "import sherpa.astro.ui as ui\n",
    "import numpy as np\n",
    "import matplotlib.pyplot as plt\n",
    "import os\n",
    "import re\n",
    "\n",
    "#astropy is used to read WCS position information from fits files for region_count\n",
    "from astropy.io import fits\n",
    "from astropy import wcs\n",
    "from astropy import units as u\n",
    "from astropy.coordinates import SkyCoord, Distance\n",
    "\n",
    "\n",
    "def region_count(epoch_in):\n",
    "    '''\n",
    "    write _summary.txt files with the count rate and upper and lower bounds on the 90% confidence interval\n",
    "    '''\n",
    "    srcflx = rt.srcflux\n",
    "    srcflx.punlearn() #Restore the system defaults for a CIAO parameter file.\n",
    "    srcflx.infile = f'data/merge_test/epoch_{epoch_in}/merged_evt.fits'\n",
    "    #with fits.open(srcflx.infile) as f:\n",
    "        #loc = SkyCoord(f[1].header['RA_NOM']*u.deg,f[1].header['DEC_NOM']*u.deg)\n",
    "        #loc_str = loc.ra.to_string(unit=u.hourangle, sep=':', pad=True, precision=2) + \" \" + loc.dec.to_string(unit=u.degree, sep=':', pad=True, precision=2)\n",
    "    #srcflx.pos = loc_str #Reads RA, DEC columns as a position in sexagesimal \"degree:arcmin:arcsec\" format\n",
    "    srcflx.pos = '13:09:48.0597,-23:22:52.836'\n",
    "    srcflx.outroot = f'data/merge_test/epoch_{epoch_in}/srcflux_products/'\n",
    "    srcflx.srcreg = f'regions/srcwcs.reg' #region used to calculate the source counts\n",
    "    srcflx.bkgreg = f'regions/bkgwcs.reg'#region used to calculate the background counts\n",
    "    srcflx.clobber = 'yes'\n",
    "    srcflx.verbose = 0 #Default =1, 0 suppresses the long print statement\n",
    "    srcflx()\n",
    "    \n",
    "    #a _summary.txt file is produces with the count rate and an unjustified flux\n",
    "    \n",
    "def read_counts(epoch):\n",
    "    filename = f'data/merge_test/epoch_{epoch}/srcflux_products/_summary.txt'\n",
    "    if not os.path.isfile(filename):\n",
    "        region_count(epoch)\n",
    "    with open(filename, encoding='utf-8') as f:\n",
    "        for line in f:\n",
    "            count_rate_match = re.search(r'[\\d\\.E\\-]*\\s(c/s)',line)\n",
    "            lb_match = re.search(r'\\([\\d\\.E\\-]*\\,', line)\n",
    "            ub_match = re.search(r'\\,\\[\\d\\.E\\-]*\\)', line)\n",
    "            #0001|13 9 48.47 -23 22 58.4  Rate           0.0014 c/s (0.00104,0.00183)      \n",
    "            if count_rate_match:\n",
    "                cr = float(count_rate_match.group(0)[0:-4])\n",
    "                lb = float(lb_match.group(0)[1:-1])\n",
    "                ub = float(ub_match.group(0)[1:-1])\n",
    "                return(cr, lb, ub)\n",
    "\n",
    "\n",
    "def merge_obsids_into_epoch(obsid_in_list):\n",
    "    '''\n",
    "    params\n",
    "    ------\n",
    "    obsid_in_list : list\n",
    "        List of observation IDs to be merged\n",
    "\n",
    "    returns\n",
    "    -------\n",
    "    None\n",
    "    '''\n",
    "    ## previously used flxobs()\n",
    "    mrgobs = rt.merge_obs\n",
    "    epoch=4\n",
    "    for obsid_row in obsid_in_list:\n",
    "        mrgobs.punlearn()\n",
    "        mrgobs.infiles = str()\n",
    "        for obsid in obsid_row:\n",
    "            if mrgobs.infiles is None:\n",
    "                mrgobs.infiles = f'data/{obsid}/repro/acisf{obsid}_repro_evt2.fits'\n",
    "            else:\n",
    "                mrgobs.infiles += f', data/{obsid}/repro/acisf{obsid}_repro_evt2.fits' ## includes leading comma\n",
    "        print('\\nEpoch: '+str(epoch))\n",
    "        print(mrgobs.infiles)\n",
    "\n",
    "        mrgobs.outroot = f'data/merge_test/epoch_{epoch}/'\n",
    "        mrgobs.clobber='yes'\n",
    "        mrgobs()\n",
    "        epoch +=1\n",
    "\n",
    "import spreadsheet\n",
    "\n",
    "def lightcurve_counts(epoch_in_list):\n",
    "    '''\n",
    "    produce a light curve of count rate vs time\n",
    "    '''\n",
    "    counts_list = []\n",
    "    t_list = []\n",
    "    yerr_list = []\n",
    "    xerr_list = []\n",
    "    for epoch in epoch_in_list:\n",
    "        [count, lb, ub] = read_counts(epoch)\n",
    "        counts_list.append(count)\n",
    "        yerr_list.append(ub-lb)\n",
    "        [t_t0,exp_time]=spreadsheet.epoch_header_parse(epoch)\n",
    "        t_list.append(t_t0)\n",
    "        xerr_list.append(exp_time/(3600*24)) ## convert observation times to days\n",
    "    \n",
    "    fig = plt.figure()\n",
    "    plt.errorbar(t_list, counts_list, fmt='bo', yerr=yerr_list, xerr=xerr_list)    "
   ]
  },
  {
   "cell_type": "code",
   "execution_count": 10,
   "metadata": {},
   "outputs": [
    {
     "name": "stdout",
     "output_type": "stream",
     "text": [
      "\n",
      "Epoch: 4\n",
      "data/20860/repro/acisf20860_repro_evt2.fits, data/20861/repro/acisf20861_repro_evt2.fits\n",
      "\n",
      "Epoch: 4\n",
      "data/20936/repro/acisf20936_repro_evt2.fits, data/20937/repro/acisf20937_repro_evt2.fits, data/20938/repro/acisf20938_repro_evt2.fits, data/20939/repro/acisf20939_repro_evt2.fits, data/20945/repro/acisf20945_repro_evt2.fits\n",
      "\n",
      "Epoch: 4\n",
      "data/21080/repro/acisf21080_repro_evt2.fits, data/21090/repro/acisf21090_repro_evt2.fits\n",
      "\n",
      "Epoch: 4\n",
      "data/21371/repro/acisf21371_repro_evt2.fits\n"
     ]
    }
   ],
   "source": [
    "#reproject(20936, 20860)\n",
    "#obsid = 20861\n",
    "#[count, lb, ub] = region_count(obsid)\n",
    "#print(f'Obs ID {obsid} observed a count rate of {count} c/s')\n",
    "\n",
    "from spreadsheet import epoch_obsid_list as eol\n",
    "merge_obsids_into_epoch(eol)\n",
    "\n",
    "#merge_observations([20860, 20936])"
   ]
  },
  {
   "cell_type": "code",
   "execution_count": 5,
   "metadata": {},
   "outputs": [
    {
     "ename": "OSError",
     "evalue": "An error occurred while running 'srcflux':\n  # srcflux (01 December 2022): ERROR The OBS_ID value is 'Merged' in data/merge_test/epoch_0/merged_evt.fits.",
     "output_type": "error",
     "traceback": [
      "\u001b[0;31m---------------------------------------------------------------------------\u001b[0m",
      "\u001b[0;31mOSError\u001b[0m                                   Traceback (most recent call last)",
      "Cell \u001b[0;32mIn[5], line 2\u001b[0m\n\u001b[1;32m      1\u001b[0m \u001b[39mfrom\u001b[39;00m \u001b[39mspreadsheet\u001b[39;00m \u001b[39mimport\u001b[39;00m epoch_obsid_list \u001b[39mas\u001b[39;00m eol\n\u001b[0;32m----> 2\u001b[0m lightcurve_counts(\u001b[39mrange\u001b[39;49m(\u001b[39mlen\u001b[39;49m(eol)))\n",
      "Cell \u001b[0;32mIn[4], line 93\u001b[0m, in \u001b[0;36mlightcurve_counts\u001b[0;34m(epoch_in_list)\u001b[0m\n\u001b[1;32m     91\u001b[0m xerr_list \u001b[39m=\u001b[39m []\n\u001b[1;32m     92\u001b[0m \u001b[39mfor\u001b[39;00m epoch \u001b[39min\u001b[39;00m epoch_in_list:\n\u001b[0;32m---> 93\u001b[0m     [count, lb, ub] \u001b[39m=\u001b[39m read_counts(epoch)\n\u001b[1;32m     94\u001b[0m     counts_list\u001b[39m.\u001b[39mappend(count)\n\u001b[1;32m     95\u001b[0m     yerr_list\u001b[39m.\u001b[39mappend(ub\u001b[39m-\u001b[39mlb)\n",
      "Cell \u001b[0;32mIn[4], line 39\u001b[0m, in \u001b[0;36mread_counts\u001b[0;34m(epoch)\u001b[0m\n\u001b[1;32m     37\u001b[0m filename \u001b[39m=\u001b[39m \u001b[39mf\u001b[39m\u001b[39m'\u001b[39m\u001b[39mdata/merge_test/epoch_\u001b[39m\u001b[39m{\u001b[39;00mepoch\u001b[39m}\u001b[39;00m\u001b[39m/srcflux_products/_summary.txt\u001b[39m\u001b[39m'\u001b[39m\n\u001b[1;32m     38\u001b[0m \u001b[39mif\u001b[39;00m \u001b[39mnot\u001b[39;00m os\u001b[39m.\u001b[39mpath\u001b[39m.\u001b[39misfile(filename):\n\u001b[0;32m---> 39\u001b[0m     region_count(epoch)\n\u001b[1;32m     40\u001b[0m \u001b[39mwith\u001b[39;00m \u001b[39mopen\u001b[39m(filename, encoding\u001b[39m=\u001b[39m\u001b[39m'\u001b[39m\u001b[39mutf-8\u001b[39m\u001b[39m'\u001b[39m) \u001b[39mas\u001b[39;00m f:\n\u001b[1;32m     41\u001b[0m     \u001b[39mfor\u001b[39;00m line \u001b[39min\u001b[39;00m f:\n",
      "Cell \u001b[0;32mIn[4], line 32\u001b[0m, in \u001b[0;36mregion_count\u001b[0;34m(epoch_in)\u001b[0m\n\u001b[1;32m     30\u001b[0m srcflx\u001b[39m.\u001b[39mclobber \u001b[39m=\u001b[39m \u001b[39m'\u001b[39m\u001b[39myes\u001b[39m\u001b[39m'\u001b[39m\n\u001b[1;32m     31\u001b[0m srcflx\u001b[39m.\u001b[39mverbose \u001b[39m=\u001b[39m \u001b[39m0\u001b[39m \u001b[39m#Default =1, 0 suppresses the long print statement\u001b[39;00m\n\u001b[0;32m---> 32\u001b[0m srcflx()\n",
      "File \u001b[0;32m/opt/anaconda3/envs/ciao-4.15/lib/python3.10/site-packages/ciao_contrib/runtool.py:1863\u001b[0m, in \u001b[0;36mCIAOToolParFile.__call__\u001b[0;34m(self, *args, **kwargs)\u001b[0m\n\u001b[1;32m   1861\u001b[0m         sep \u001b[39m=\u001b[39m \u001b[39m\"\u001b[39m\u001b[39m\\n\u001b[39;00m\u001b[39m  \u001b[39m\u001b[39m\"\u001b[39m\n\u001b[1;32m   1862\u001b[0m         smsg \u001b[39m=\u001b[39m sep\u001b[39m.\u001b[39mjoin(sout\u001b[39m.\u001b[39mrstrip()\u001b[39m.\u001b[39msplit(\u001b[39m\"\u001b[39m\u001b[39m\\n\u001b[39;00m\u001b[39m\"\u001b[39m))\n\u001b[0;32m-> 1863\u001b[0m         \u001b[39mraise\u001b[39;00m \u001b[39mIOError\u001b[39;00m(\u001b[39mf\u001b[39m\u001b[39m\"\u001b[39m\u001b[39mAn error occurred while running \u001b[39m\u001b[39m'\u001b[39m\u001b[39m{\u001b[39;00m\u001b[39mself\u001b[39m\u001b[39m.\u001b[39m_toolname\u001b[39m}\u001b[39;00m\u001b[39m'\u001b[39m\u001b[39m:\u001b[39m\u001b[39m{\u001b[39;00msep\u001b[39m}\u001b[39;00m\u001b[39m{\u001b[39;00msmsg\u001b[39m}\u001b[39;00m\u001b[39m\"\u001b[39m)\n\u001b[1;32m   1865\u001b[0m \u001b[39mfinally\u001b[39;00m:\n\u001b[1;32m   1866\u001b[0m     \u001b[39mfor\u001b[39;00m v \u001b[39min\u001b[39;00m stackfiles\u001b[39m.\u001b[39mvalues():\n",
      "\u001b[0;31mOSError\u001b[0m: An error occurred while running 'srcflux':\n  # srcflux (01 December 2022): ERROR The OBS_ID value is 'Merged' in data/merge_test/epoch_0/merged_evt.fits."
     ]
    }
   ],
   "source": [
    "from spreadsheet import epoch_obsid_list as eol\n",
    "lightcurve_counts(range(len(eol)))"
   ]
  }
 ],
 "metadata": {
  "kernelspec": {
   "display_name": "Python 3.10.8 ('ciao-4.15')",
   "language": "python",
   "name": "python3"
  },
  "language_info": {
   "codemirror_mode": {
    "name": "ipython",
    "version": 3
   },
   "file_extension": ".py",
   "mimetype": "text/x-python",
   "name": "python",
   "nbconvert_exporter": "python",
   "pygments_lexer": "ipython3",
   "version": "3.10.8"
  },
  "orig_nbformat": 4,
  "vscode": {
   "interpreter": {
    "hash": "aa0ed6ea5fdefd83fab7eb4cb6966f67b14a46d682529109a8514cc91561ea32"
   }
  }
 },
 "nbformat": 4,
 "nbformat_minor": 2
}
