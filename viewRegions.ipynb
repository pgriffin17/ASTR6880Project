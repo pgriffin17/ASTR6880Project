{
 "cells": [
  {
   "cell_type": "code",
   "execution_count": 1,
   "metadata": {},
   "outputs": [],
   "source": [
    "import ciao_contrib.runtool as rt\n",
    "import sherpa.astro.ui as ui\n",
    "from sherpa.astro import io\n",
    "import numpy as np\n",
    "import matplotlib.pyplot as plt\n",
    "import os"
   ]
  },
  {
   "attachments": {},
   "cell_type": "markdown",
   "metadata": {},
   "source": [
    "If all files use the same WCS coordinates, we can rename the region('blah') to just be that one single file, which would be helpful."
   ]
  },
  {
   "attachments": {},
   "cell_type": "markdown",
   "metadata": {},
   "source": [
    "Suspicious region locations 20938, 21323, 22157, and more - run translate option across all files."
   ]
  },
  {
   "cell_type": "code",
   "execution_count": 3,
   "metadata": {},
   "outputs": [
    {
     "data": {
      "text/plain": [
       "0"
      ]
     },
     "execution_count": 3,
     "metadata": {},
     "output_type": "execute_result"
    }
   ],
   "source": [
    "# Copy evt2.fits files from data/{obsid}/repro to evt2/\n",
    "# and copy srcwcs and bkgwcs files from data/20860/repro to evt2/\n",
    "\n",
    "epoch_obsid_list = [['20860','20861'],\n",
    " ['20936','20937','20938','20939','20945'],\n",
    " ['21080','21090'],\n",
    " ['21371'],\n",
    " ['21322','22157','22158'],\n",
    " ['21372','22736','22737'],\n",
    " ['21323','23183','23184','23185'],\n",
    " ['22677','24887','24888','24889'], # Maybe combine this with the next one too?\n",
    " ['23870','24923','24924'],\n",
    " ['23869','26223','24336','24337'],\n",
    " ['25733','25734','25527'],\n",
    " ['27088','27089','27090','27731','27091','25528','27752','27753','27754']]\n",
    "\n",
    "# Flatten epoch_obsid_list\n",
    "obsid_list = [obsid for epoch in epoch_obsid_list for obsid in epoch]\n",
    "\n",
    "# Copy evt2.fits files\n",
    "os.mkdir('evt2')\n",
    "for obsid in obsid_list:\n",
    "    os.system(f'cp data/{obsid}/repro/acisf{obsid}_repro_evt2.fits evt2/{obsid}_evt2.fits')\n",
    "\n",
    "# Copy srcwcs and bkgwcs files\n",
    "os.system('cp data/20860/repro/srcwcs.reg evt2/srcwcs.reg')\n",
    "os.system('cp data/20860/repro/bkgwcs.reg evt2/bkgwcs.reg')"
   ]
  }
 ],
 "metadata": {
  "kernelspec": {
   "display_name": "Python 3.10.8 ('ciao-4.15')",
   "language": "python",
   "name": "python3"
  },
  "language_info": {
   "codemirror_mode": {
    "name": "ipython",
    "version": 3
   },
   "file_extension": ".py",
   "mimetype": "text/x-python",
   "name": "python",
   "nbconvert_exporter": "python",
   "pygments_lexer": "ipython3",
   "version": "3.10.8"
  },
  "orig_nbformat": 4,
  "vscode": {
   "interpreter": {
    "hash": "aa0ed6ea5fdefd83fab7eb4cb6966f67b14a46d682529109a8514cc91561ea32"
   }
  }
 },
 "nbformat": 4,
 "nbformat_minor": 2
}
