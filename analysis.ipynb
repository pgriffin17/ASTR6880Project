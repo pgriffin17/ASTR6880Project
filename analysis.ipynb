{
 "cells": [
  {
   "cell_type": "code",
   "execution_count": 1,
   "metadata": {},
   "outputs": [],
   "source": [
    "import ciao_contrib.runtool as rt\n",
    "import sherpa.astro.ui as ui\n",
    "from sherpa.astro import io\n",
    "import numpy as np\n",
    "import matplotlib.pyplot as plt\n",
    "import os"
   ]
  },
  {
   "attachments": {},
   "cell_type": "markdown",
   "metadata": {},
   "source": [
    "If all files use the same WCS coordinates, we can rename the region('blah') to just be that one single file, which would be helpful."
   ]
  },
  {
   "cell_type": "code",
   "execution_count": 10,
   "metadata": {},
   "outputs": [],
   "source": [
    "def extract_spec(obsid):\n",
    "    '''\n",
    "    Extract the spectrum from the evt2 file and save into the data folder\n",
    "    with the name of the observation ID followed by GW170817.\n",
    "\n",
    "    Parameters\n",
    "    ----------\n",
    "    obsid : int\n",
    "        The observation ID of the data to be extracted\n",
    "\n",
    "    Returns\n",
    "    -------\n",
    "    None\n",
    "    '''\n",
    "    spec = rt.specextract\n",
    "    spec.punlearn()\n",
    "    spec.infile = f'data/{obsid}/repro/acisf{obsid}_repro_evt2.fits[sky=region(data/{obsid}/repro/srcwcs.reg)]'\n",
    "    spec.bkgfile = f'data/{obsid}/repro/acisf{obsid}_repro_evt2.fits[sky=region(data/{obsid}/repro/bkgwcs.reg)]'\n",
    "    spec.outroot = f'data/{obsid}/GW170817/GW170817'\n",
    "    spec.correctpsf = 'yes'\n",
    "    spec.weight = 'no'\n",
    "    spec()"
   ]
  },
  {
   "cell_type": "code",
   "execution_count": 37,
   "metadata": {},
   "outputs": [],
   "source": [
    "extract_spec(20861)"
   ]
  },
  {
   "cell_type": "code",
   "execution_count": 3,
   "metadata": {},
   "outputs": [],
   "source": [
    "# Run detect on the evt2 file to create a source list using the celldetect method\n",
    "\n",
    "def detect_srcs(obsid):\n",
    "\n",
    "    '''\n",
    "    Run the celldetect method on the evt2 file to create a source list.\n",
    "\n",
    "    Parameters\n",
    "    ----------\n",
    "    obsid : int\n",
    "        The observation ID of the data to be extracted\n",
    "\n",
    "    Returns\n",
    "    -------\n",
    "    None\n",
    "    '''\n",
    "\n",
    "    detect = rt.celldetect\n",
    "    detect.punlearn()\n",
    "    detect.infile = f'data/{obsid}/repro/acisf{obsid}_repro_evt2.fits'\n",
    "    detect.outfile = f'data/{obsid}/GW170817/GW170817_src_6.fits'\n",
    "    detect.fixedcell = 6\n",
    "    detect.thresh = 3\n",
    "    #detect.snr_diminution = 0.75\n",
    "    detect.clobber = 'yes'\n",
    "    detect()\n",
    "\n",
    "def detect_srcs_wav(obsid):\n",
    "\n",
    "    detect = rt.wavdetect\n",
    "    detect.punlearn()\n",
    "    detect.infile = f'data/{obsid}/repro/acisf{obsid}_repro_evt2.fits'\n",
    "    detect.outfile = f'data/{obsid}/GW170817/GW170817_src_wav9.fits'\n",
    "    detect.scellfile = f'data/{obsid}/GW170817/GW170817_scell.fits'\n",
    "    detect.imagefile = f'data/{obsid}/GW170817/GW170817_img.fits'\n",
    "    detect.clobber = 'yes'\n",
    "    detect.sigthresh = 1e-9\n",
    "    detect.defnbkgfile = f'data/{obsid}/GW170817/GW170817_defnbkg.fits'\n",
    "    detect()"
   ]
  },
  {
   "cell_type": "code",
   "execution_count": 5,
   "metadata": {},
   "outputs": [],
   "source": [
    "detect_srcs(20860)"
   ]
  },
  {
   "cell_type": "code",
   "execution_count": 4,
   "metadata": {},
   "outputs": [],
   "source": [
    "detect_srcs(20936)"
   ]
  },
  {
   "cell_type": "code",
   "execution_count": 6,
   "metadata": {},
   "outputs": [],
   "source": [
    "# Create GW170817 directory in data/{obsid}\n",
    "\n",
    "def create_GWdir(obsid):\n",
    "    os.mkdir(f'data/{obsid}/GW170817')"
   ]
  },
  {
   "cell_type": "code",
   "execution_count": 13,
   "metadata": {},
   "outputs": [],
   "source": [
    "create_GWdir(20861)\n",
    "\n",
    "\n",
    "detect_srcs(20861)"
   ]
  },
  {
   "cell_type": "code",
   "execution_count": 7,
   "metadata": {},
   "outputs": [],
   "source": [
    "def reproject(obsid_in, obsid_ref):\n",
    "\n",
    "    reproj = rt.reproject_aspect\n",
    "    reproj.punlearn()\n",
    "    reproj.infile = f'data/{obsid_in}/GW170817/GW170817_src_6.fits'\n",
    "    reproj.refsrcfile = f'data/{obsid_ref}/GW170817/GW170817_src_6.fits'\n",
    "    reproj.updfile = f'data/{obsid_in}/repro/acisf{obsid_in}_repro_evt2.fits'\n",
    "    reproj.wcsfile = f'data/{obsid_in}/repro/acisf{obsid_in}_repro_evt2.fits'\n",
    "    reproj.method = 'trans'\n",
    "    reproj.residlim = 0.5\n",
    "    reproj.outfile = f'data/{obsid_in}/GW170817/GW170817_reproj.fits'\n",
    "    reproj.clobber = 'yes'\n",
    "    reproj()"
   ]
  },
  {
   "attachments": {},
   "cell_type": "markdown",
   "metadata": {},
   "source": [
    "THIS WORKS"
   ]
  },
  {
   "cell_type": "code",
   "execution_count": 8,
   "metadata": {},
   "outputs": [],
   "source": [
    "reproject(20936, 20860)"
   ]
  },
  {
   "cell_type": "code",
   "execution_count": 9,
   "metadata": {},
   "outputs": [],
   "source": [
    "def src_reproject(obsid_in, obsid_ref):\n",
    "    ''' \n",
    "    Create a source list and then reproject to match the reference obsid.\n",
    "    '''\n",
    "    if not os.path.exists(f'data/{obsid_in}/GW170817'):\n",
    "        create_GWdir(obsid_in)\n",
    "\n",
    "    detect_srcs(obsid_in)\n",
    "\n",
    "    reproject(obsid_in, obsid_ref)"
   ]
  },
  {
   "cell_type": "code",
   "execution_count": 10,
   "metadata": {},
   "outputs": [],
   "source": [
    "src_reproject(20936, 20860)"
   ]
  },
  {
   "attachments": {},
   "cell_type": "markdown",
   "metadata": {},
   "source": [
    "# ObsID List and Epoch List"
   ]
  },
  {
   "cell_type": "code",
   "execution_count": 10,
   "metadata": {},
   "outputs": [],
   "source": [
    "# Get list of folders in data folder\n",
    "obsids = os.listdir('data')\n",
    "obsids.remove('20936 - Copy') # Remove copy of 20936\n",
    "obsids.remove('20860') # Remove 20860, as we don't need to reproject it\n",
    "\n",
    "# Sort obsids by number\n",
    "obsids.sort(key=lambda x: int(x.split()[0]))"
   ]
  },
  {
   "attachments": {},
   "cell_type": "markdown",
   "metadata": {},
   "source": [
    "Below gives a list of epochs listing ObsIDs for each epoch. These ObsIDs should be combined for each epoch. Note that ObsIDs before the lightcurve peak have been removed to simplify our analysis."
   ]
  },
  {
   "cell_type": "code",
   "execution_count": 11,
   "metadata": {},
   "outputs": [],
   "source": [
    "epoch_obsid_list = [['20860','20861'],\n",
    " ['20936','20937','20938','20939','20945'],\n",
    " ['21080','21090'],\n",
    " ['21371'],\n",
    " ['21322','22157','22158'],\n",
    " ['21372','22736','22737'],\n",
    " ['21323','23183','23184','23185'],\n",
    " ['22677','24887','24888','24889'], # Maybe combine this with the next one too?\n",
    " ['23870','24923','24924'],\n",
    " ['23869','26223','24336','24337'],\n",
    " ['25733','25734','25527'],\n",
    " ['27088','27089','27090','27731','27091','25528','27752','27753','27754']]"
   ]
  },
  {
   "attachments": {},
   "cell_type": "markdown",
   "metadata": {},
   "source": [
    "Include code below to reproject all ObsIDs to match ObsID 20860 (the first one)."
   ]
  },
  {
   "cell_type": "code",
   "execution_count": 12,
   "metadata": {},
   "outputs": [
    {
     "data": {
      "text/plain": [
       "42"
      ]
     },
     "execution_count": 12,
     "metadata": {},
     "output_type": "execute_result"
    }
   ],
   "source": [
    "# The list below is the same as the one above, but flattened, and without 20860.\n",
    "# Thus, we can iterate over this list to reproject all the data.\n",
    "obsid_list = [item for sublist in epoch_obsid_list for item in sublist]\n",
    "obsid_list.remove('20860') # Remove 20860, as we don't need to reproject it\n",
    "len(obsid_list)"
   ]
  },
  {
   "cell_type": "code",
   "execution_count": 13,
   "metadata": {},
   "outputs": [],
   "source": [
    "src_reproject(20937, 20860)"
   ]
  },
  {
   "cell_type": "code",
   "execution_count": 14,
   "metadata": {},
   "outputs": [
    {
     "name": "stdout",
     "output_type": "stream",
     "text": [
      "trying 20861\n",
      "0.00% complete\n",
      "trying 20936\n",
      "2.38% complete\n",
      "trying 20937\n",
      "4.76% complete\n",
      "trying 20938\n",
      "7.14% complete\n",
      "trying 20939\n",
      "9.52% complete\n",
      "trying 20945\n",
      "11.90% complete\n",
      "trying 21080\n",
      "14.29% complete\n",
      "trying 21090\n",
      "16.67% complete\n",
      "trying 21371\n",
      "19.05% complete\n",
      "trying 21322\n",
      "21.43% complete\n",
      "trying 22157\n",
      "23.81% complete\n",
      "trying 22158\n",
      "26.19% complete\n",
      "trying 21372\n",
      "28.57% complete\n",
      "trying 22736\n",
      "30.95% complete\n",
      "trying 22737\n",
      "33.33% complete\n",
      "trying 21323\n",
      "35.71% complete\n",
      "trying 23183\n",
      "38.10% complete\n",
      "trying 23184\n",
      "40.48% complete\n",
      "trying 23185\n",
      "42.86% complete\n",
      "trying 22677\n",
      "45.24% complete\n",
      "trying 24887\n",
      "47.62% complete\n",
      "trying 24888\n",
      "50.00% complete\n",
      "trying 24889\n",
      "52.38% complete\n",
      "trying 23870\n",
      "54.76% complete\n",
      "trying 24923\n",
      "57.14% complete\n",
      "trying 24924\n",
      "59.52% complete\n",
      "trying 23869\n",
      "61.90% complete\n",
      "trying 26223\n",
      "64.29% complete\n",
      "trying 24336\n",
      "66.67% complete\n",
      "trying 24337\n",
      "69.05% complete\n",
      "trying 25733\n",
      "71.43% complete\n",
      "trying 25734\n",
      "73.81% complete\n",
      "trying 25527\n",
      "76.19% complete\n",
      "trying 27088\n",
      "78.57% complete\n",
      "trying 27089\n",
      "80.95% complete\n",
      "trying 27090\n",
      "83.33% complete\n",
      "trying 27731\n",
      "85.71% complete\n",
      "trying 27091\n",
      "88.10% complete\n",
      "trying 25528\n",
      "90.48% complete\n",
      "trying 27752\n",
      "92.86% complete\n",
      "trying 27753\n",
      "95.24% complete\n",
      "trying 27754\n",
      "97.62% complete\n"
     ]
    }
   ],
   "source": [
    "for obsid in obsid_list: # Used size 6, thresh 2.5 I think??\n",
    "    print(f'trying {obsid}')\n",
    "    # Try to reproject the observation\n",
    "    try:\n",
    "\n",
    "        src_reproject(obsid, '20860')\n",
    "        # print percentage complete\n",
    "        print(f'{obsid_list.index(obsid)/len(obsid_list)*100:.2f}% complete')\n",
    "\n",
    "    except:\n",
    "            \n",
    "        print(f'Failed on {obsid}, continuing...')\n",
    "        continue"
   ]
  },
  {
   "cell_type": "code",
   "execution_count": 62,
   "metadata": {},
   "outputs": [
    {
     "data": {
      "text/plain": [
       "['20937',\n",
       " '20938',\n",
       " '20939',\n",
       " '23183',\n",
       " '23869',\n",
       " '24337',\n",
       " '27088',\n",
       " '25528',\n",
       " '27752',\n",
       " '27753',\n",
       " '27754']"
      ]
     },
     "execution_count": 62,
     "metadata": {},
     "output_type": "execute_result"
    }
   ],
   "source": [
    "fail_list = [20937,20938,20939,23183,23869,24337,27088,25528,27752,27753,27754]\n",
    "# Add single quotes around each obsid from above\n",
    "fail_list = [f'{obsid}' for obsid in fail_list]\n",
    "fail_list # Used thresh 3, size 9 to get all but 23869 to work, changing thresh to 2.5 gets all of them."
   ]
  },
  {
   "cell_type": "code",
   "execution_count": 61,
   "metadata": {},
   "outputs": [
    {
     "data": {
      "text/plain": [
       "['23183', '25528']"
      ]
     },
     "execution_count": 61,
     "metadata": {},
     "output_type": "execute_result"
    }
   ],
   "source": [
    "fail_list"
   ]
  },
  {
   "cell_type": "code",
   "execution_count": 63,
   "metadata": {},
   "outputs": [
    {
     "name": "stdout",
     "output_type": "stream",
     "text": [
      "trying 20937\n",
      "4.76% complete\n",
      "trying 20938\n",
      "7.14% complete\n",
      "trying 20939\n",
      "9.52% complete\n",
      "trying 23183\n",
      "38.10% complete\n",
      "trying 23869\n",
      "61.90% complete\n",
      "trying 24337\n",
      "69.05% complete\n",
      "trying 27088\n",
      "78.57% complete\n",
      "trying 25528\n",
      "90.48% complete\n",
      "trying 27752\n",
      "92.86% complete\n",
      "trying 27753\n",
      "95.24% complete\n",
      "trying 27754\n",
      "97.62% complete\n"
     ]
    }
   ],
   "source": [
    "for obsid in fail_list:\n",
    "    \n",
    "    # Try to reproject the observation\n",
    "\n",
    "    # If it fails, try again\n",
    "    try:\n",
    "        print(f'trying {obsid}')\n",
    "        src_reproject(obsid, '20860')\n",
    "        # print percentage complete\n",
    "        print(f'{obsid_list.index(obsid)/len(fail_list)*100:.2f}% complete')\n",
    "\n",
    "    except:    \n",
    "        print(f'Failed on {obsid}, continuing...')\n",
    "        continue"
   ]
  },
  {
   "attachments": {},
   "cell_type": "markdown",
   "metadata": {},
   "source": [
    "Include code below to combine observations within each epoch."
   ]
  },
  {
   "cell_type": "code",
   "execution_count": null,
   "metadata": {},
   "outputs": [],
   "source": []
  },
  {
   "attachments": {},
   "cell_type": "markdown",
   "metadata": {},
   "source": [
    "# Trying to get inline image viewing"
   ]
  },
  {
   "cell_type": "code",
   "execution_count": 15,
   "metadata": {},
   "outputs": [
    {
     "data": {
      "text/plain": [
       "<module 'sherpa.astro.io.pyfits_backend' from '/home/pegriffin/miniconda3/envs/ciao-4.15/lib/python3.10/site-packages/sherpa/astro/io/pyfits_backend.py'>"
      ]
     },
     "execution_count": 15,
     "metadata": {},
     "output_type": "execute_result"
    }
   ],
   "source": [
    "\n",
    "import astropy\n",
    "import sherpa.astro.io.pyfits_backend\n",
    "io.backend = sherpa.astro.io.pyfits_backend\n",
    "\n",
    "io.backend"
   ]
  },
  {
   "cell_type": "code",
   "execution_count": 18,
   "metadata": {},
   "outputs": [
    {
     "ename": "IndexError",
     "evalue": "tuple index out of range",
     "output_type": "error",
     "traceback": [
      "\u001b[0;31m---------------------------------------------------------------------------\u001b[0m",
      "\u001b[0;31mIndexError\u001b[0m                                Traceback (most recent call last)",
      "Cell \u001b[0;32mIn[18], line 1\u001b[0m\n\u001b[0;32m----> 1\u001b[0m img \u001b[39m=\u001b[39m io\u001b[39m.\u001b[39;49mread_image(\u001b[39mf\u001b[39;49m\u001b[39m'\u001b[39;49m\u001b[39mdata/20936/repro/acisf20936_repro_evt2.fits\u001b[39;49m\u001b[39m'\u001b[39;49m)\n",
      "File \u001b[0;32m~/miniconda3/envs/ciao-4.15/lib/python3.10/site-packages/sherpa/astro/io/__init__.py:344\u001b[0m, in \u001b[0;36mread_image\u001b[0;34m(arg, coord, dstype)\u001b[0m\n\u001b[1;32m    341\u001b[0m data, filename \u001b[39m=\u001b[39m backend\u001b[39m.\u001b[39mget_image_data(arg)\n\u001b[1;32m    342\u001b[0m axlens \u001b[39m=\u001b[39m data[\u001b[39m'\u001b[39m\u001b[39my\u001b[39m\u001b[39m'\u001b[39m]\u001b[39m.\u001b[39mshape\n\u001b[0;32m--> 344\u001b[0m x0 \u001b[39m=\u001b[39m numpy\u001b[39m.\u001b[39marange(axlens[\u001b[39m1\u001b[39;49m], dtype\u001b[39m=\u001b[39mSherpaFloat) \u001b[39m+\u001b[39m \u001b[39m1.\u001b[39m\n\u001b[1;32m    345\u001b[0m x1 \u001b[39m=\u001b[39m numpy\u001b[39m.\u001b[39marange(axlens[\u001b[39m0\u001b[39m], dtype\u001b[39m=\u001b[39mSherpaFloat) \u001b[39m+\u001b[39m \u001b[39m1.\u001b[39m\n\u001b[1;32m    346\u001b[0m x0, x1 \u001b[39m=\u001b[39m reshape_2d_arrays(x0, x1)\n",
      "\u001b[0;31mIndexError\u001b[0m: tuple index out of range"
     ]
    }
   ],
   "source": [
    "img = io.read_image(f'data/20936/repro/acisf20936_repro_evt2.fits')"
   ]
  },
  {
   "cell_type": "code",
   "execution_count": 23,
   "metadata": {},
   "outputs": [],
   "source": [
    "import sherpa.image"
   ]
  },
  {
   "cell_type": "code",
   "execution_count": 43,
   "metadata": {},
   "outputs": [
    {
     "ename": "TypeError",
     "evalue": "Image.image() missing 1 required positional argument: 'array'",
     "output_type": "error",
     "traceback": [
      "\u001b[0;31m---------------------------------------------------------------------------\u001b[0m",
      "\u001b[0;31mTypeError\u001b[0m                                 Traceback (most recent call last)",
      "Cell \u001b[0;32mIn[43], line 3\u001b[0m\n\u001b[1;32m      1\u001b[0m ds9 \u001b[39m=\u001b[39m sherpa\u001b[39m.\u001b[39mimage\u001b[39m.\u001b[39mImage\n\u001b[1;32m      2\u001b[0m ds9\u001b[39m.\u001b[39mopen()\n\u001b[0;32m----> 3\u001b[0m ds9\u001b[39m.\u001b[39;49mimage(\u001b[39mf\u001b[39;49m\u001b[39m'\u001b[39;49m\u001b[39mdata/20936/GW170817/cutout.fits\u001b[39;49m\u001b[39m'\u001b[39;49m)\n",
      "\u001b[0;31mTypeError\u001b[0m: Image.image() missing 1 required positional argument: 'array'"
     ]
    }
   ],
   "source": [
    "ds9 = sherpa.image.Image\n",
    "ds9.open()\n",
    "ds9.image(f'data/20936/GW170817/cutout.fits')"
   ]
  },
  {
   "cell_type": "code",
   "execution_count": 37,
   "metadata": {},
   "outputs": [],
   "source": [
    "def generate_cutout(obsid):\n",
    "    '''Generate a cutout from pixels (4000,4000) to (4200,4200) and save as cutout.fits\n",
    "    using dmcopy'''\n",
    "    dmcopy = rt.dmcopy\n",
    "    dmcopy.punlearn()\n",
    "    dmcopy.infile = f'data/{obsid}/repro/acisf{obsid}_repro_evt2.fits[sky=box(4100,4100,200,200)]'\n",
    "    dmcopy.outfile = f'data/{obsid}/GW170817/cutout.fits'\n",
    "    dmcopy.clobber = 'yes'\n",
    "    dmcopy()"
   ]
  },
  {
   "cell_type": "code",
   "execution_count": 38,
   "metadata": {},
   "outputs": [],
   "source": [
    "generate_cutout(20936)"
   ]
  },
  {
   "cell_type": "code",
   "execution_count": 39,
   "metadata": {},
   "outputs": [
    {
     "ename": "IndexError",
     "evalue": "tuple index out of range",
     "output_type": "error",
     "traceback": [
      "\u001b[0;31m---------------------------------------------------------------------------\u001b[0m",
      "\u001b[0;31mIndexError\u001b[0m                                Traceback (most recent call last)",
      "Cell \u001b[0;32mIn[39], line 3\u001b[0m\n\u001b[1;32m      1\u001b[0m \u001b[39m#Load image into sherpa using load_image\u001b[39;00m\n\u001b[0;32m----> 3\u001b[0m sherpa\u001b[39m.\u001b[39;49mastro\u001b[39m.\u001b[39;49mui\u001b[39m.\u001b[39;49mload_image(\u001b[39mf\u001b[39;49m\u001b[39m'\u001b[39;49m\u001b[39mdata/20936/GW170817/cutout.fits\u001b[39;49m\u001b[39m'\u001b[39;49m)\n",
      "File \u001b[0;32m<string>:1\u001b[0m, in \u001b[0;36mload_image\u001b[0;34m(id, arg, coord, dstype)\u001b[0m\n",
      "File \u001b[0;32m~/miniconda3/envs/ciao-4.15/lib/python3.10/site-packages/sherpa/astro/ui/utils.py:1729\u001b[0m, in \u001b[0;36mSession.load_image\u001b[0;34m(self, id, arg, coord, dstype)\u001b[0m\n\u001b[1;32m   1727\u001b[0m \u001b[39mif\u001b[39;00m arg \u001b[39mis\u001b[39;00m \u001b[39mNone\u001b[39;00m:\n\u001b[1;32m   1728\u001b[0m     \u001b[39mid\u001b[39m, arg \u001b[39m=\u001b[39m arg, \u001b[39mid\u001b[39m\n\u001b[0;32m-> 1729\u001b[0m \u001b[39mself\u001b[39m\u001b[39m.\u001b[39mset_data(\u001b[39mid\u001b[39m, \u001b[39mself\u001b[39;49m\u001b[39m.\u001b[39;49munpack_image(arg, coord, dstype))\n",
      "File \u001b[0;32m~/miniconda3/envs/ciao-4.15/lib/python3.10/site-packages/sherpa/astro/ui/utils.py:1671\u001b[0m, in \u001b[0;36mSession.unpack_image\u001b[0;34m(self, arg, coord, dstype)\u001b[0m\n\u001b[1;32m   1619\u001b[0m \u001b[39mdef\u001b[39;00m \u001b[39munpack_image\u001b[39m(\u001b[39mself\u001b[39m, arg, coord\u001b[39m=\u001b[39m\u001b[39m'\u001b[39m\u001b[39mlogical\u001b[39m\u001b[39m'\u001b[39m,\n\u001b[1;32m   1620\u001b[0m                  dstype\u001b[39m=\u001b[39msherpa\u001b[39m.\u001b[39mastro\u001b[39m.\u001b[39mdata\u001b[39m.\u001b[39mDataIMG):\n\u001b[1;32m   1621\u001b[0m \u001b[39m    \u001b[39m\u001b[39m\"\"\"Create an image data structure.\u001b[39;00m\n\u001b[1;32m   1622\u001b[0m \n\u001b[1;32m   1623\u001b[0m \u001b[39m    Parameters\u001b[39;00m\n\u001b[0;32m   (...)\u001b[0m\n\u001b[1;32m   1669\u001b[0m \n\u001b[1;32m   1670\u001b[0m \u001b[39m    \"\"\"\u001b[39;00m\n\u001b[0;32m-> 1671\u001b[0m     \u001b[39mreturn\u001b[39;00m sherpa\u001b[39m.\u001b[39;49mastro\u001b[39m.\u001b[39;49mio\u001b[39m.\u001b[39;49mread_image(arg, coord, dstype)\n",
      "File \u001b[0;32m~/miniconda3/envs/ciao-4.15/lib/python3.10/site-packages/sherpa/astro/io/__init__.py:344\u001b[0m, in \u001b[0;36mread_image\u001b[0;34m(arg, coord, dstype)\u001b[0m\n\u001b[1;32m    341\u001b[0m data, filename \u001b[39m=\u001b[39m backend\u001b[39m.\u001b[39mget_image_data(arg)\n\u001b[1;32m    342\u001b[0m axlens \u001b[39m=\u001b[39m data[\u001b[39m'\u001b[39m\u001b[39my\u001b[39m\u001b[39m'\u001b[39m]\u001b[39m.\u001b[39mshape\n\u001b[0;32m--> 344\u001b[0m x0 \u001b[39m=\u001b[39m numpy\u001b[39m.\u001b[39marange(axlens[\u001b[39m1\u001b[39;49m], dtype\u001b[39m=\u001b[39mSherpaFloat) \u001b[39m+\u001b[39m \u001b[39m1.\u001b[39m\n\u001b[1;32m    345\u001b[0m x1 \u001b[39m=\u001b[39m numpy\u001b[39m.\u001b[39marange(axlens[\u001b[39m0\u001b[39m], dtype\u001b[39m=\u001b[39mSherpaFloat) \u001b[39m+\u001b[39m \u001b[39m1.\u001b[39m\n\u001b[1;32m    346\u001b[0m x0, x1 \u001b[39m=\u001b[39m reshape_2d_arrays(x0, x1)\n",
      "\u001b[0;31mIndexError\u001b[0m: tuple index out of range"
     ]
    }
   ],
   "source": [
    "#Load image into sherpa using load_image\n",
    "\n",
    "sherpa.astro.ui.load_image(f'data/20936/GW170817/cutout.fits')"
   ]
  },
  {
   "cell_type": "code",
   "execution_count": 1,
   "metadata": {},
   "outputs": [],
   "source": [
    "from regions import Regions"
   ]
  },
  {
   "cell_type": "code",
   "execution_count": 2,
   "metadata": {},
   "outputs": [
    {
     "data": {
      "text/plain": [
       "<Regions([<CircleSkyRegion(center=<SkyCoord (FK5: equinox=J2000.000): (ra, dec) in deg\n",
       "    (197.45024875, -23.38134333)>, radius=1.0 arcsec)>])>"
      ]
     },
     "execution_count": 2,
     "metadata": {},
     "output_type": "execute_result"
    }
   ],
   "source": [
    "regions = Regions.read(f'data/20936/repro/srcwcs.reg', format='ds9')\n",
    "regions"
   ]
  },
  {
   "cell_type": "code",
   "execution_count": 59,
   "metadata": {},
   "outputs": [
    {
     "name": "stdout",
     "output_type": "stream",
     "text": [
      "Filename: data/20936/GW170817/cutout.fits\n",
      "No.    Name      Ver    Type      Cards   Dimensions   Format\n",
      "  0  PRIMARY       1 PrimaryHDU      36   ()      \n",
      "  1  EVENTS        1 BinTableHDU   1125   5210R x 20C   [1D, 1J, 1I, 1I, 1I, 1I, 1I, 1I, 1E, 1E, 1E, 1E, 25I, 1J, 1J, 1E, 1J, 1I, 1I, 32X]   \n",
      "  2  GTI           7 BinTableHDU     28   1R x 2C   [1D, 1D]   \n",
      "  3  GTI           6 BinTableHDU     28   1R x 2C   [1D, 1D]   \n",
      "  4  GTI           3 BinTableHDU     28   1R x 2C   [1D, 1D]   \n",
      "  5  GTI           2 BinTableHDU     28   2R x 2C   [1D, 1D]   \n"
     ]
    },
    {
     "data": {
      "image/png": "[encoded data removed]",
      "text/plain": [
       "<Figure size 640x480 with 1 Axes>"
      ]
     },
     "metadata": {},
     "output_type": "display_data"
    }
   ],
   "source": [
    "# Load cutout.fits and display using astropy\n",
    "\n",
    "from astropy.io import fits\n",
    "import matplotlib.pyplot as plt\n",
    "from matplotlib.colors import LogNorm\n",
    "from astropy.table import Table\n",
    "\n",
    "hdu = fits.open(f'data/20936/GW170817/cutout.fits')\n",
    "hdu.info()\n",
    "\n",
    "evt_data = Table(hdu[1].data)\n",
    "\n",
    "ii = np.in1d(evt_data['ccd_id'], [7])\n",
    "np.sum(ii)\n",
    "\n",
    "NBINS = (100,100)\n",
    "img_zero_mpl = plt.hist2d(evt_data['x'][ii], evt_data['y'][ii], bins=NBINS, cmap='inferno', norm=LogNorm(clip=True))\n"
   ]
  },
  {
   "cell_type": "code",
   "execution_count": 50,
   "metadata": {},
   "outputs": [
    {
     "data": {
      "text/plain": [
       "0"
      ]
     },
     "execution_count": 50,
     "metadata": {},
     "output_type": "execute_result"
    }
   ],
   "source": [
    "np.sum(ii)"
   ]
  },
  {
   "cell_type": "code",
   "execution_count": 51,
   "metadata": {},
   "outputs": [
    {
     "data": {
      "text/html": [
       "<div><i>Table length=5210</i>\n",
       "<table id=\"table140251731015856\" class=\"table-striped table-bordered table-condensed\">\n",
       "<thead><tr><th>time</th><th>expno</th><th>ccd_id</th><th>node_id</th><th>chipx</th><th>chipy</th><th>tdetx</th><th>tdety</th><th>detx</th><th>dety</th><th>x</th><th>y</th><th>phas</th><th>pha</th><th>pha_ro</th><th>energy</th><th>pi</th><th>fltgrade</th><th>grade</th><th>status</th></tr></thead>\n",
       "<thead><tr><th>float64</th><th>int32</th><th>int16</th><th>int16</th><th>int16</th><th>int16</th><th>int16</th><th>int16</th><th>float32</th><th>float32</th><th>float32</th><th>float32</th><th>int16[5,5]</th><th>int32</th><th>int32</th><th>float32</th><th>int32</th><th>int16</th><th>int16</th><th>bool[32]</th></tr></thead>\n",
       "<tr><td>632613318.5702482</td><td>4</td><td>7</td><td>0</td><td>253</td><td>645</td><td>4170</td><td>2347</td><td>4129.0356</td><td>3983.3542</td><td>4010.0083</td><td>4025.8704</td><td>4 .. -2</td><td>3266</td><td>3150</td><td>14580.498</td><td>999</td><td>208</td><td>6</td><td>False .. False</td></tr>\n",
       "<tr><td>632613321.7113091</td><td>5</td><td>7</td><td>1</td><td>294</td><td>613</td><td>4211</td><td>2315</td><td>4169.6235</td><td>4016.0417</td><td>4055.9646</td><td>4002.279</td><td>11 .. 2</td><td>1611</td><td>1531</td><td>7560.194</td><td>518</td><td>2</td><td>2</td><td>False .. False</td></tr>\n",
       "<tr><td>632613324.8523492</td><td>6</td><td>7</td><td>1</td><td>299</td><td>488</td><td>4216</td><td>2190</td><td>4174.6826</td><td>4140.8745</td><td>4171.822</td><td>4048.3005</td><td>1 .. 2</td><td>3185</td><td>3074</td><td>14920.029</td><td>1022</td><td>2</td><td>2</td><td>False .. False</td></tr>\n",
       "<tr><td>632613327.9933892</td><td>7</td><td>7</td><td>0</td><td>107</td><td>577</td><td>4024</td><td>2279</td><td>3982.898</td><td>4052.106</td><td>4012.5732</td><td>4188.009</td><td>2 .. 3</td><td>125</td><td>105</td><td>584.2242</td><td>41</td><td>2</td><td>2</td><td>False .. False</td></tr>\n",
       "<tr><td>632613331.1344395</td><td>8</td><td>7</td><td>1</td><td>278</td><td>472</td><td>4195</td><td>2174</td><td>4153.335</td><td>4156.479</td><td>4176.5005</td><td>4074.3926</td><td>-3 .. 6</td><td>2996</td><td>2882</td><td>14031.285</td><td>962</td><td>8</td><td>3</td><td>False .. False</td></tr>\n",
       "<tr><td>632613343.6986201</td><td>12</td><td>7</td><td>0</td><td>181</td><td>521</td><td>4098</td><td>2223</td><td>4057.2065</td><td>4107.977</td><td>4091.7864</td><td>4143.2417</td><td>-2 .. 4</td><td>2321</td><td>2242</td><td>10355.84</td><td>710</td><td>22</td><td>6</td><td>False .. False</td></tr>\n",
       "<tr><td>632613346.8396603</td><td>13</td><td>7</td><td>0</td><td>157</td><td>443</td><td>4074</td><td>2145</td><td>4033.1726</td><td>4185.2305</td><td>4151.959</td><td>4196.5728</td><td>0 .. 0</td><td>2155</td><td>2085</td><td>9627.083</td><td>660</td><td>80</td><td>6</td><td>False .. False</td></tr>\n",
       "<tr><td>632613353.1217507</td><td>15</td><td>7</td><td>1</td><td>313</td><td>564</td><td>4230</td><td>2266</td><td>4188.888</td><td>4064.3203</td><td>4103.855</td><td>4005.554</td><td>4 .. 6</td><td>2766</td><td>2660</td><td>12958.801</td><td>888</td><td>80</td><td>6</td><td>False .. False</td></tr>\n",
       "<tr><td>632613362.5448912</td><td>18</td><td>7</td><td>1</td><td>296</td><td>615</td><td>4213</td><td>2317</td><td>4171.2344</td><td>4013.6646</td><td>4049.2788</td><td>4001.7178</td><td>0 .. -3</td><td>3165</td><td>3085</td><td>14827.539</td><td>1016</td><td>8</td><td>3</td><td>False .. False</td></tr>\n",
       "<tr><td>632613371.9680219</td><td>21</td><td>7</td><td>0</td><td>177</td><td>465</td><td>4094</td><td>2167</td><td>4052.5972</td><td>4163.2583</td><td>4136.962</td><td>4171.037</td><td>-2 .. 1</td><td>3028</td><td>2960</td><td>13502.203</td><td>925</td><td>72</td><td>6</td><td>False .. False</td></tr>\n",
       "<tr><td>...</td><td>...</td><td>...</td><td>...</td><td>...</td><td>...</td><td>...</td><td>...</td><td>...</td><td>...</td><td>...</td><td>...</td><td>...</td><td>...</td><td>...</td><td>...</td><td>...</td><td>...</td><td>...</td><td>...</td></tr>\n",
       "<tr><td>632645416.5994477</td><td>10223</td><td>7</td><td>0</td><td>251</td><td>500</td><td>4168</td><td>2202</td><td>4127.1167</td><td>4128.906</td><td>4121.848</td><td>4074.0564</td><td>-7 .. 0</td><td>3107</td><td>2973</td><td>13868.711</td><td>950</td><td>22</td><td>6</td><td>False .. False</td></tr>\n",
       "<tr><td>632645416.5994477</td><td>10223</td><td>7</td><td>0</td><td>187</td><td>582</td><td>4104</td><td>2284</td><td>4062.4048</td><td>4046.6772</td><td>4020.4749</td><td>4099.9897</td><td>0 .. -1</td><td>2191</td><td>2113</td><td>9776.533</td><td>670</td><td>8</td><td>3</td><td>False .. False</td></tr>\n",
       "<tr><td>632645419.740448</td><td>10224</td><td>7</td><td>0</td><td>149</td><td>434</td><td>4066</td><td>2136</td><td>4024.535</td><td>4194.495</td><td>4140.549</td><td>4194.662</td><td>1 .. 0</td><td>2252</td><td>2198</td><td>10060.683</td><td>690</td><td>8</td><td>3</td><td>False .. False</td></tr>\n",
       "<tr><td>632645419.740448</td><td>10224</td><td>7</td><td>1</td><td>283</td><td>578</td><td>4200</td><td>2280</td><td>4158.2812</td><td>4050.2456</td><td>4062.7036</td><td>4014.0073</td><td>2 .. 3</td><td>2873</td><td>2759</td><td>13459.289</td><td>922</td><td>104</td><td>6</td><td>False .. False</td></tr>\n",
       "<tr><td>632645422.8814383</td><td>10225</td><td>7</td><td>1</td><td>280</td><td>608</td><td>4197</td><td>2310</td><td>4156.026</td><td>4020.663</td><td>4034.7563</td><td>4004.4128</td><td>-1 .. -2</td><td>2130</td><td>2051</td><td>9984.797</td><td>684</td><td>16</td><td>4</td><td>False .. False</td></tr>\n",
       "<tr><td>632645426.0224583</td><td>10226</td><td>7</td><td>1</td><td>265</td><td>576</td><td>4182</td><td>2278</td><td>4140.947</td><td>4052.8916</td><td>4057.9133</td><td>4031.5364</td><td>0 .. -1</td><td>2876</td><td>2778</td><td>13473.948</td><td>923</td><td>18</td><td>6</td><td>False .. False</td></tr>\n",
       "<tr><td>632645429.1634684</td><td>10227</td><td>7</td><td>1</td><td>274</td><td>462</td><td>4191</td><td>2164</td><td>4149.9985</td><td>4166.198</td><td>4165.1406</td><td>4069.3564</td><td>3 .. -1</td><td>2452</td><td>2360</td><td>11490.862</td><td>788</td><td>80</td><td>6</td><td>False .. False</td></tr>\n",
       "<tr><td>632645444.8684894</td><td>10232</td><td>7</td><td>0</td><td>245</td><td>620</td><td>4162</td><td>2322</td><td>4120.4165</td><td>4008.4285</td><td>4009.0928</td><td>4034.478</td><td>-1 .. 3</td><td>2433</td><td>2349</td><td>10866.524</td><td>745</td><td>72</td><td>6</td><td>False .. False</td></tr>\n",
       "<tr><td>632645454.29149</td><td>10235</td><td>7</td><td>1</td><td>281</td><td>459</td><td>4198</td><td>2161</td><td>4156.338</td><td>4169.4595</td><td>4170.805</td><td>4067.813</td><td>3 .. 5</td><td>2948</td><td>2858</td><td>13808.454</td><td>946</td><td>8</td><td>3</td><td>False .. False</td></tr>\n",
       "<tr><td>632645466.8555107</td><td>10239</td><td>7</td><td>0</td><td>126</td><td>563</td><td>4043</td><td>2265</td><td>4001.8792</td><td>4065.3015</td><td>4013.6328</td><td>4168.6035</td><td>0 .. 2</td><td>2413</td><td>2342</td><td>10774.759</td><td>738</td><td>64</td><td>2</td><td>False .. False</td></tr>\n",
       "</table></div>"
      ],
      "text/plain": [
       "<Table length=5210>\n",
       "       time       expno ccd_id node_id ...   pi  fltgrade grade     status    \n",
       "     float64      int32 int16   int16  ... int32  int16   int16    bool[32]   \n",
       "----------------- ----- ------ ------- ... ----- -------- ----- --------------\n",
       "632613318.5702482     4      7       0 ...   999      208     6 False .. False\n",
       "632613321.7113091     5      7       1 ...   518        2     2 False .. False\n",
       "632613324.8523492     6      7       1 ...  1022        2     2 False .. False\n",
       "632613327.9933892     7      7       0 ...    41        2     2 False .. False\n",
       "632613331.1344395     8      7       1 ...   962        8     3 False .. False\n",
       "632613343.6986201    12      7       0 ...   710       22     6 False .. False\n",
       "632613346.8396603    13      7       0 ...   660       80     6 False .. False\n",
       "632613353.1217507    15      7       1 ...   888       80     6 False .. False\n",
       "632613362.5448912    18      7       1 ...  1016        8     3 False .. False\n",
       "632613371.9680219    21      7       0 ...   925       72     6 False .. False\n",
       "              ...   ...    ...     ... ...   ...      ...   ...            ...\n",
       "632645416.5994477 10223      7       0 ...   950       22     6 False .. False\n",
       "632645416.5994477 10223      7       0 ...   670        8     3 False .. False\n",
       " 632645419.740448 10224      7       0 ...   690        8     3 False .. False\n",
       " 632645419.740448 10224      7       1 ...   922      104     6 False .. False\n",
       "632645422.8814383 10225      7       1 ...   684       16     4 False .. False\n",
       "632645426.0224583 10226      7       1 ...   923       18     6 False .. False\n",
       "632645429.1634684 10227      7       1 ...   788       80     6 False .. False\n",
       "632645444.8684894 10232      7       0 ...   745       72     6 False .. False\n",
       "  632645454.29149 10235      7       1 ...   946        8     3 False .. False\n",
       "632645466.8555107 10239      7       0 ...   738       64     2 False .. False"
      ]
     },
     "execution_count": 51,
     "metadata": {},
     "output_type": "execute_result"
    }
   ],
   "source": [
    "evt_data\n",
    "data/20860/repro/acisf20860_repro_evt2.fits,data/20861/repro/acisf20861_repro_evt2.fits\n"
   ]
  },
  {
   "attachments": {},
   "cell_type": "markdown",
   "metadata": {},
   "source": [
    "## Useless reproject wav code"
   ]
  },
  {
   "cell_type": "code",
   "execution_count": 40,
   "metadata": {},
   "outputs": [],
   "source": [
    "detect_srcs_wav(20860)"
   ]
  },
  {
   "cell_type": "code",
   "execution_count": 41,
   "metadata": {},
   "outputs": [],
   "source": [
    "detect_srcs_wav(20936)"
   ]
  },
  {
   "cell_type": "code",
   "execution_count": 53,
   "metadata": {},
   "outputs": [],
   "source": [
    "def reproject_wav(obsid_in, obsid_ref):\n",
    "\n",
    "    reproj = rt.reproject_aspect\n",
    "    reproj.punlearn()\n",
    "    reproj.infile = f'data/{obsid_in}/GW170817/GW170817_src_wav9.fits'\n",
    "    reproj.refsrcfile = f'data/{obsid_ref}/GW170817/GW170817_src_wav9.fits'\n",
    "    reproj.updfile = f'data/{obsid_in}/repro/acisf{obsid_in}_repro_evt2.fits'\n",
    "    reproj.wcsfile = f'data/{obsid_ref}/repro/acisf{obsid_ref}_repro_evt2.fits'\n",
    "    reproj.residlim = 2\n",
    "    reproj.outfile = f'data/{obsid_in}/GW170817/GW170817_reproj.fits'\n",
    "    reproj()"
   ]
  },
  {
   "cell_type": "code",
   "execution_count": 54,
   "metadata": {},
   "outputs": [],
   "source": [
    "reproject_wav(20936, 20860)"
   ]
  }
 ],
 "metadata": {
  "kernelspec": {
   "display_name": "Python 3.10.8 ('ciao-4.15')",
   "language": "python",
   "name": "python3"
  },
  "language_info": {
   "codemirror_mode": {
    "name": "ipython",
    "version": 3
   },
   "file_extension": ".py",
   "mimetype": "text/x-python",
   "name": "python",
   "nbconvert_exporter": "python",
   "pygments_lexer": "ipython3",
   "version": "3.10.8"
  },
  "orig_nbformat": 4,
  "vscode": {
   "interpreter": {
    "hash": "aa0ed6ea5fdefd83fab7eb4cb6966f67b14a46d682529109a8514cc91561ea32"
   }
  }
 },
 "nbformat": 4,
 "nbformat_minor": 2
}
