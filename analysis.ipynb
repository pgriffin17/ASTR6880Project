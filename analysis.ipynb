{
 "cells": [
  {
   "cell_type": "code",
   "execution_count": 2,
   "metadata": {},
   "outputs": [],
   "source": [
    "import ciao_contrib.runtool as rt\n",
    "import sherpa.astro.ui as ui\n",
    "import numpy as np\n",
    "import matplotlib.pyplot as plt\n",
    "import os"
   ]
  },
  {
   "attachments": {},
   "cell_type": "markdown",
   "metadata": {},
   "source": [
    "If all files use the same WCS coordinates, we can rename the region('blah') to just be that one single file, which would be helpful."
   ]
  },
  {
   "cell_type": "code",
   "execution_count": 10,
   "metadata": {},
   "outputs": [],
   "source": [
    "def extract_spec(obsid):\n",
    "    '''\n",
    "    Extract the spectrum from the evt2 file and save into the data folder\n",
    "    with the name of the observation ID followed by GW170817.\n",
    "\n",
    "    Parameters\n",
    "    ----------\n",
    "    obsid : int\n",
    "        The observation ID of the data to be extracted\n",
    "\n",
    "    Returns\n",
    "    -------\n",
    "    None\n",
    "    '''\n",
    "    spec = rt.specextract\n",
    "    spec.punlearn()\n",
    "    spec.infile = f'data/{obsid}/repro/acisf{obsid}_repro_evt2.fits[sky=region(data/{obsid}/repro/srcwcs.reg)]'\n",
    "    spec.bkgfile = f'data/{obsid}/repro/acisf{obsid}_repro_evt2.fits[sky=region(data/{obsid}/repro/bkgwcs.reg)]'\n",
    "    spec.outroot = f'data/{obsid}/GW170817/GW170817'\n",
    "    spec.correctpsf = 'yes'\n",
    "    spec.weight = 'no'\n",
    "    spec()"
   ]
  },
  {
   "cell_type": "code",
   "execution_count": 37,
   "metadata": {},
   "outputs": [],
   "source": [
    "extract_spec(20861)"
   ]
  },
  {
   "cell_type": "code",
   "execution_count": 2,
   "metadata": {},
   "outputs": [
    {
     "data": {
      "text/plain": [
       "<CIAO tool: celldetect>"
      ]
     },
     "execution_count": 2,
     "metadata": {},
     "output_type": "execute_result"
    }
   ],
   "source": [
    "rt.celldetect"
   ]
  },
  {
   "cell_type": "code",
   "execution_count": 55,
   "metadata": {},
   "outputs": [],
   "source": [
    "# Run detect on the evt2 file to create a source list using the celldetect method\n",
    "\n",
    "def detect_srcs(obsid):\n",
    "\n",
    "    '''\n",
    "    Run the celldetect method on the evt2 file to create a source list.\n",
    "\n",
    "    Parameters\n",
    "    ----------\n",
    "    obsid : int\n",
    "        The observation ID of the data to be extracted\n",
    "\n",
    "    Returns\n",
    "    -------\n",
    "    None\n",
    "    '''\n",
    "\n",
    "    detect = rt.celldetect\n",
    "    detect.punlearn()\n",
    "    detect.infile = f'data/{obsid}/repro/acisf{obsid}_repro_evt2.fits'\n",
    "    detect.outfile = f'data/{obsid}/GW170817/GW170817_src_6.fits'\n",
    "    detect.fixedcell = 6\n",
    "    detect()\n",
    "\n",
    "def detect_srcs_wav(obsid):\n",
    "\n",
    "    detect = rt.wavdetect\n",
    "    detect.punlearn()\n",
    "    detect.infile = f'data/{obsid}/repro/acisf{obsid}_repro_evt2.fits'\n",
    "    detect.outfile = f'data/{obsid}/GW170817/GW170817_src_wav9.fits'\n",
    "    detect.scellfile = f'data/{obsid}/GW170817/GW170817_scell.fits'\n",
    "    detect.imagefile = f'data/{obsid}/GW170817/GW170817_img.fits'\n",
    "    detect.clobber = 'yes'\n",
    "    detect.sigthresh = 1e-9\n",
    "    detect.defnbkgfile = f'data/{obsid}/GW170817/GW170817_defnbkg.fits'\n",
    "    detect()"
   ]
  },
  {
   "cell_type": "code",
   "execution_count": 56,
   "metadata": {},
   "outputs": [],
   "source": [
    "detect_srcs(20860)"
   ]
  },
  {
   "cell_type": "code",
   "execution_count": 57,
   "metadata": {},
   "outputs": [],
   "source": [
    "detect_srcs(20936)"
   ]
  },
  {
   "cell_type": "code",
   "execution_count": 23,
   "metadata": {},
   "outputs": [],
   "source": [
    "# Create GW170817 directory in data/{obsid}\n",
    "\n",
    "def create_GWdir(obsid):\n",
    "    \n",
    "        '''\n",
    "        Create a directory for the GW170817 data.\n",
    "    \n",
    "        Parameters\n",
    "        ----------\n",
    "        obsid : int\n",
    "            The observation ID of the data to be extracted\n",
    "    \n",
    "        Returns\n",
    "        -------\n",
    "        None\n",
    "        '''\n",
    "    \n",
    "        os.mkdir(f'data/{obsid}/GW170817')"
   ]
  },
  {
   "cell_type": "code",
   "execution_count": 13,
   "metadata": {},
   "outputs": [],
   "source": [
    "create_GWdir(20861)\n",
    "\n",
    "\n",
    "detect_srcs(20861)"
   ]
  },
  {
   "cell_type": "code",
   "execution_count": 61,
   "metadata": {},
   "outputs": [],
   "source": [
    "def reproject(obsid_in, obsid_ref):\n",
    "\n",
    "    reproj = rt.reproject_aspect\n",
    "    reproj.punlearn()\n",
    "    reproj.infile = f'data/{obsid_in}/GW170817/GW170817_src_6.fits'\n",
    "    reproj.refsrcfile = f'data/{obsid_ref}/GW170817/GW170817_src_6.fits'\n",
    "    reproj.updfile = f'data/{obsid_in}/repro/acisf{obsid_in}_repro_evt2.fits'\n",
    "    reproj.wcsfile = f'data/{obsid_in}/repro/acisf{obsid_in}_repro_evt2.fits'\n",
    "    reproj.residlim = 0.5\n",
    "    reproj.outfile = f'data/{obsid_in}/GW170817/GW170817_reproj.fits'\n",
    "    reproj()"
   ]
  },
  {
   "attachments": {},
   "cell_type": "markdown",
   "metadata": {},
   "source": [
    "THIS WORKS"
   ]
  },
  {
   "cell_type": "code",
   "execution_count": 62,
   "metadata": {},
   "outputs": [],
   "source": [
    "reproject(20936, 20860)"
   ]
  },
  {
   "cell_type": "code",
   "execution_count": 30,
   "metadata": {},
   "outputs": [],
   "source": [
    "def src_reproject(obsid_in, obsid_ref):\n",
    "    ''' \n",
    "    Create a source list and then reproject to match the reference obsid.\n",
    "    '''\n",
    "    if not os.path.exists(f'data/{obsid_in}/GW170817'):\n",
    "        create_GWdir(obsid_in)\n",
    "\n",
    "    detect_srcs_wav(obsid_in)\n",
    "\n",
    "    reproject(obsid_in, obsid_ref)"
   ]
  },
  {
   "cell_type": "code",
   "execution_count": 31,
   "metadata": {},
   "outputs": [
    {
     "ename": "KeyboardInterrupt",
     "evalue": "",
     "output_type": "error",
     "traceback": [
      "\u001b[0;31m---------------------------------------------------------------------------\u001b[0m",
      "\u001b[0;31mKeyboardInterrupt\u001b[0m                         Traceback (most recent call last)",
      "Cell \u001b[0;32mIn[31], line 1\u001b[0m\n\u001b[0;32m----> 1\u001b[0m src_reproject(\u001b[39m20936\u001b[39;49m, \u001b[39m20860\u001b[39;49m)\n",
      "Cell \u001b[0;32mIn[30], line 8\u001b[0m, in \u001b[0;36msrc_reproject\u001b[0;34m(obsid_in, obsid_ref)\u001b[0m\n\u001b[1;32m      5\u001b[0m \u001b[39mif\u001b[39;00m \u001b[39mnot\u001b[39;00m os\u001b[39m.\u001b[39mpath\u001b[39m.\u001b[39mexists(\u001b[39mf\u001b[39m\u001b[39m'\u001b[39m\u001b[39mdata/\u001b[39m\u001b[39m{\u001b[39;00mobsid_in\u001b[39m}\u001b[39;00m\u001b[39m/GW170817\u001b[39m\u001b[39m'\u001b[39m):\n\u001b[1;32m      6\u001b[0m     create_GWdir(obsid_in)\n\u001b[0;32m----> 8\u001b[0m detect_srcs_wav(obsid_in)\n\u001b[1;32m     10\u001b[0m reproject(obsid_in, obsid_ref)\n",
      "Cell \u001b[0;32mIn[27], line 34\u001b[0m, in \u001b[0;36mdetect_srcs_wav\u001b[0;34m(obsid)\u001b[0m\n\u001b[1;32m     32\u001b[0m detect\u001b[39m.\u001b[39mimagefile \u001b[39m=\u001b[39m \u001b[39mf\u001b[39m\u001b[39m'\u001b[39m\u001b[39mdata/\u001b[39m\u001b[39m{\u001b[39;00mobsid\u001b[39m}\u001b[39;00m\u001b[39m/GW170817/GW170817_img.fits\u001b[39m\u001b[39m'\u001b[39m\n\u001b[1;32m     33\u001b[0m detect\u001b[39m.\u001b[39mdefnbkgfile \u001b[39m=\u001b[39m \u001b[39mf\u001b[39m\u001b[39m'\u001b[39m\u001b[39mdata/\u001b[39m\u001b[39m{\u001b[39;00mobsid\u001b[39m}\u001b[39;00m\u001b[39m/GW170817/GW170817_defnbkg.fits\u001b[39m\u001b[39m'\u001b[39m\n\u001b[0;32m---> 34\u001b[0m detect()\n",
      "File \u001b[0;32m~/miniconda3/envs/ciao-4.15/lib/python3.10/site-packages/ciao_contrib/runtool.py:1942\u001b[0m, in \u001b[0;36mCIAOToolDirect.__call__\u001b[0;34m(self, *args, **kwargs)\u001b[0m\n\u001b[1;32m   1939\u001b[0m \u001b[39m# self._validate_parameters()\u001b[39;00m\n\u001b[1;32m   1941\u001b[0m \u001b[39mself\u001b[39m\u001b[39m.\u001b[39m_display_command_line()\n\u001b[0;32m-> 1942\u001b[0m (rval, sout) \u001b[39m=\u001b[39m \u001b[39mself\u001b[39;49m\u001b[39m.\u001b[39;49m_run()\n\u001b[1;32m   1944\u001b[0m \u001b[39mif\u001b[39;00m rval \u001b[39m==\u001b[39m \u001b[39m0\u001b[39m:\n\u001b[1;32m   1945\u001b[0m     \u001b[39m# Assume there is a par file we can read from\u001b[39;00m\n\u001b[1;32m   1946\u001b[0m     \u001b[39m# NOTE: this means that settings don't persist in quite\u001b[39;00m\n\u001b[1;32m   1947\u001b[0m     \u001b[39m# the same way as they do for CIAOToolParFile instances\u001b[39;00m\n\u001b[1;32m   1948\u001b[0m     \u001b[39m# (e.g. hidden params will be reset).\u001b[39;00m\n\u001b[1;32m   1949\u001b[0m     \u001b[39m#\u001b[39;00m\n\u001b[1;32m   1950\u001b[0m     \u001b[39mself\u001b[39m\u001b[39m.\u001b[39mread_params()\n",
      "File \u001b[0;32m~/miniconda3/envs/ciao-4.15/lib/python3.10/site-packages/ciao_contrib/runtool.py:1920\u001b[0m, in \u001b[0;36mCIAOToolDirect._run\u001b[0;34m(self)\u001b[0m\n\u001b[1;32m   1915\u001b[0m \u001b[39m# As stderr is merged into stdout, only need to care about the\u001b[39;00m\n\u001b[1;32m   1916\u001b[0m \u001b[39m# first item returned by communicate.\u001b[39;00m\n\u001b[1;32m   1917\u001b[0m proc \u001b[39m=\u001b[39m subprocess\u001b[39m.\u001b[39mPopen(pargs,\n\u001b[1;32m   1918\u001b[0m                         stdout\u001b[39m=\u001b[39msubprocess\u001b[39m.\u001b[39mPIPE,\n\u001b[1;32m   1919\u001b[0m                         stderr\u001b[39m=\u001b[39msubprocess\u001b[39m.\u001b[39mSTDOUT)\n\u001b[0;32m-> 1920\u001b[0m out \u001b[39m=\u001b[39m proc\u001b[39m.\u001b[39;49mcommunicate()\n\u001b[1;32m   1921\u001b[0m sout \u001b[39m=\u001b[39m out[\u001b[39m0\u001b[39m]\u001b[39m.\u001b[39mdecode()\n\u001b[1;32m   1923\u001b[0m etime \u001b[39m=\u001b[39m time\u001b[39m.\u001b[39mlocaltime()\n",
      "File \u001b[0;32m~/miniconda3/envs/ciao-4.15/lib/python3.10/subprocess.py:1141\u001b[0m, in \u001b[0;36mPopen.communicate\u001b[0;34m(self, input, timeout)\u001b[0m\n\u001b[1;32m   1139\u001b[0m     \u001b[39mself\u001b[39m\u001b[39m.\u001b[39m_stdin_write(\u001b[39minput\u001b[39m)\n\u001b[1;32m   1140\u001b[0m \u001b[39melif\u001b[39;00m \u001b[39mself\u001b[39m\u001b[39m.\u001b[39mstdout:\n\u001b[0;32m-> 1141\u001b[0m     stdout \u001b[39m=\u001b[39m \u001b[39mself\u001b[39;49m\u001b[39m.\u001b[39;49mstdout\u001b[39m.\u001b[39;49mread()\n\u001b[1;32m   1142\u001b[0m     \u001b[39mself\u001b[39m\u001b[39m.\u001b[39mstdout\u001b[39m.\u001b[39mclose()\n\u001b[1;32m   1143\u001b[0m \u001b[39melif\u001b[39;00m \u001b[39mself\u001b[39m\u001b[39m.\u001b[39mstderr:\n",
      "\u001b[0;31mKeyboardInterrupt\u001b[0m: "
     ]
    }
   ],
   "source": [
    "src_reproject(20936, 20860)"
   ]
  },
  {
   "attachments": {},
   "cell_type": "markdown",
   "metadata": {},
   "source": [
    "Below here is useless? 11 PM Tuesday 4/25"
   ]
  },
  {
   "cell_type": "code",
   "execution_count": 40,
   "metadata": {},
   "outputs": [],
   "source": [
    "detect_srcs_wav(20860)"
   ]
  },
  {
   "cell_type": "code",
   "execution_count": 41,
   "metadata": {},
   "outputs": [],
   "source": [
    "detect_srcs_wav(20936)"
   ]
  },
  {
   "cell_type": "code",
   "execution_count": 53,
   "metadata": {},
   "outputs": [],
   "source": [
    "def reproject_wav(obsid_in, obsid_ref):\n",
    "\n",
    "    reproj = rt.reproject_aspect\n",
    "    reproj.punlearn()\n",
    "    reproj.infile = f'data/{obsid_in}/GW170817/GW170817_src_wav9.fits'\n",
    "    reproj.refsrcfile = f'data/{obsid_ref}/GW170817/GW170817_src_wav9.fits'\n",
    "    reproj.updfile = f'data/{obsid_in}/repro/acisf{obsid_in}_repro_evt2.fits'\n",
    "    reproj.wcsfile = f'data/{obsid_ref}/repro/acisf{obsid_ref}_repro_evt2.fits'\n",
    "    reproj.residlim = 2\n",
    "    reproj.outfile = f'data/{obsid_in}/GW170817/GW170817_reproj.fits'\n",
    "    reproj()"
   ]
  },
  {
   "cell_type": "code",
   "execution_count": 54,
   "metadata": {},
   "outputs": [],
   "source": [
    "reproject_wav(20936, 20860)"
   ]
  },
  {
   "cell_type": "code",
   "execution_count": 10,
   "metadata": {},
   "outputs": [
    {
     "name": "stdout",
     "output_type": "stream",
     "text": [
      "data/20860/repro/acisf20860_repro_evt2.fits,data/20861/repro/acisf20861_repro_evt2.fits\n"
     ]
    }
   ],
   "source": [
    "def merge_observations(obsid_in_list):\n",
    "    '''\n",
    "    params \n",
    "    ======\n",
    "    obsid_in_list\n",
    "        a list of integer obsid numbers\n",
    "    \n",
    "    output\n",
    "    ======\n",
    "    None\n",
    "    '''\n",
    "\n",
    "    flxobs = rt.flux_obs\n",
    "    flxobs.punlearn()\n",
    "    flxobs.infiles = str()\n",
    "    for obsid in obsid_in_list:\n",
    "        if flxobs.infiles is None:\n",
    "            flxobs.infiles = f'data/{obsid}/repro/acisf{obsid}_repro_evt2.fits'\n",
    "        else:\n",
    "            flxobs.infiles = flxobs.infiles+', '+f'data/{obsid}/repro/acisf{obsid}_repro_evt2.fits'\n",
    "    print(flxobs.infiles)\n",
    "    flxobs.outroot = 'data/merge_test/'\n",
    "    flxobs()\n",
    "\n",
    "\n",
    "##  Example function call\n",
    "merge_observations([20860,20861])\n"
   ]
  }
 ],
 "metadata": {
  "kernelspec": {
   "display_name": "Python 3.10.8 ('ciao-4.15')",
   "language": "python",
   "name": "python3"
  },
  "language_info": {
   "codemirror_mode": {
    "name": "ipython",
    "version": 3
   },
   "file_extension": ".py",
   "mimetype": "text/x-python",
   "name": "python",
   "nbconvert_exporter": "python",
   "pygments_lexer": "ipython3",
   "version": "3.10.8"
  },
  "orig_nbformat": 4,
  "vscode": {
   "interpreter": {
    "hash": "aa0ed6ea5fdefd83fab7eb4cb6966f67b14a46d682529109a8514cc91561ea32"
   }
  }
 },
 "nbformat": 4,
 "nbformat_minor": 2
}
