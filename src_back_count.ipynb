{
 "cells": [
  {
   "cell_type": "code",
   "execution_count": 18,
   "metadata": {},
   "outputs": [
    {
     "ename": "ModuleNotFoundError",
     "evalue": "No module named 'spreadsheet'",
     "output_type": "error",
     "traceback": [
      "\u001b[0;31m---------------------------------------------------------------------------\u001b[0m",
      "\u001b[0;31mModuleNotFoundError\u001b[0m                       Traceback (most recent call last)",
      "Cell \u001b[0;32mIn[18], line 96\u001b[0m\n\u001b[1;32m     93\u001b[0m     \u001b[39mprint\u001b[39m(mrgobs\u001b[39m.\u001b[39minfiles)\n\u001b[1;32m     94\u001b[0m     mrgobs\u001b[39m.\u001b[39moutroot \u001b[39m=\u001b[39m \u001b[39m'\u001b[39m\u001b[39mdata/merge_test/\u001b[39m\u001b[39m'\u001b[39m\n\u001b[0;32m---> 96\u001b[0m \u001b[39mimport\u001b[39;00m \u001b[39mspreadsheet\u001b[39;00m\u001b[39m.\u001b[39;00m\u001b[39mipynb\u001b[39;00m\n\u001b[1;32m     98\u001b[0m \u001b[39mdef\u001b[39;00m \u001b[39mlightcurve_counts\u001b[39m(obsid_in_list):\n\u001b[1;32m     99\u001b[0m     \u001b[39m'''\u001b[39;00m\n\u001b[1;32m    100\u001b[0m \u001b[39m    produce a light curve of count rate vs time\u001b[39;00m\n\u001b[1;32m    101\u001b[0m \u001b[39m    '''\u001b[39;00m\n",
      "\u001b[0;31mModuleNotFoundError\u001b[0m: No module named 'spreadsheet'"
     ]
    }
   ],
   "source": [
    "import ciao_contrib.runtool as rt\n",
    "import sherpa.astro.ui as ui\n",
    "import numpy as np\n",
    "import matplotlib.pyplot as plt\n",
    "import os\n",
    "import re\n",
    "\n",
    "#astropy is used to read WCS position information from fits files for region_count\n",
    "from astropy.io import fits\n",
    "from astropy import wcs\n",
    "from astropy import units as u\n",
    "from astropy.coordinates import SkyCoord, Distance\n",
    "\n",
    "\n",
    "def region_count(obsid_in):\n",
    "    '''\n",
    "    return the count rate for an obsid with upper and lower bounds on the 90% confidence interval\n",
    "    '''\n",
    "    srcflx = rt.srcflux\n",
    "    srcflx.punlearn() #Restore the system defaults for a CIAO parameter file.\n",
    "    srcflx.infile = f'data/{obsid_in}/repro/acisf{obsid_in}_repro_evt2.fits'\n",
    "    with fits.open(srcflx.infile) as f:\n",
    "        loc = SkyCoord(f[1].header['RA_NOM']*u.deg,f[1].header['DEC_NOM']*u.deg)\n",
    "        loc_str = loc.ra.to_string(unit=u.hourangle, sep=':', pad=True, precision=2) + \" \" + loc.dec.to_string(unit=u.degree, sep=':', pad=True, precision=2)\n",
    "    srcflx.pos = loc_str #Reads RA, DEC columns as a position in sexagesimal \"degree:arcmin:arcsec\" format\n",
    "    srcflx.outroot = f'data/{obsid_in}/repro/srcflux_products/'\n",
    "    srcflx.srcreg = f'regions/srcwcs.reg' #region used to calculate the source counts\n",
    "    srcflx.bkgreg = f'regions/bkgwcs.reg'#region used to calculate the background counts\n",
    "    srcflx.clobber = 'yes'\n",
    "    srcflx.verbose = 0 #Default =1, 0 suppresses the long print statement\n",
    "\n",
    "    #a _summary.txt file is produces with the count rate and an unjustified flux\n",
    "    with open(srcflx.outroot+'_summary.txt', encoding='utf-8') as f:\n",
    "        for line in f:\n",
    "            count_rate_match = re.search('0\\\\.0.*(c/s)',line)\n",
    "            lb_match = re.search('\\\\(0\\\\.0.*\\\\,', line)\n",
    "            ub_match = re.search('\\\\,0\\\\.0.*\\\\)', line)\n",
    "            #0001|13 9 48.47 -23 22 58.4  Rate           0.0014 c/s (0.00104,0.00183)      \n",
    "            if count_rate_match:\n",
    "                cr = float(count_rate_match.group(0)[0:-4])\n",
    "                lb = float(lb_match.group(0)[1:-1])\n",
    "                ub = float(ub_match.group(0)[1:-1])\n",
    "                return(cr, lb, ub)\n",
    "\n",
    "\n",
    "def merge_observations(obsid_in_list):\n",
    "    '''\n",
    "    params\n",
    "    ------\n",
    "    obsid_in_list : list\n",
    "        List of observation IDs to be merged\n",
    "\n",
    "    returns\n",
    "    -------\n",
    "    None\n",
    "    \n",
    "    outputs\n",
    "    -------\n",
    "    produces img and fov files\n",
    "    '''\n",
    "\n",
    "    flxobs = rt.flux_obs\n",
    "    flxobs.punlearn()\n",
    "    flxobs.infiles = str()\n",
    "    for obsid in obsid_in_list:\n",
    "        if flxobs.infiles is None:\n",
    "            flxobs.infiles = f'data/{obsid}/repro/acisf{obsid}_repro_evt2.fits'\n",
    "        else:\n",
    "            flxobs.infiles += f',data/{obsid}/repro/acisf{obsid}_repro_evt2.fits'\n",
    "    print(flxobs.infiles)\n",
    "    flxobs.outroot = 'data/merge_test/'\n",
    "    #flxobs()\n",
    "\n",
    "def merge_by_epoch(obsid_in_list):\n",
    "    '''\n",
    "    params\n",
    "    ------\n",
    "    obsid_in_list : list\n",
    "        List of observation IDs to be merged\n",
    "\n",
    "    returns\n",
    "    -------\n",
    "    None\n",
    "    '''\n",
    "    mrgobs = rt.merge_obs\n",
    "    mrgobs.punlearn()\n",
    "    mrgobs.infiles = str()\n",
    "    for obsid in obsid_in_list:\n",
    "        if mrgobs.infiles is None:\n",
    "            mrgobs.infiles = f'data/{obsid}/repro/acisf{obsid}_repro_evt2.fits'\n",
    "        else:\n",
    "            mrgobs.infiles += f', data/{obsid}/repro/acisf{obsid}_repro_evt2.fits' ## includes leading comma\n",
    "    print(mrgobs.infiles)\n",
    "    mrgobs.outroot = 'data/merge_test/'\n",
    "\n",
    "import spreadsheet.ipynb\n",
    "\n",
    "def lightcurve_counts(obsid_in_list):\n",
    "    '''\n",
    "    produce a light curve of count rate vs time\n",
    "    '''\n",
    "    counts_list = []\n",
    "    t_list = []\n",
    "    for obsid in obsid_in_list:\n",
    "        [count, lb, ub] = region_count(obsid)\n",
    "        counts_list.append(count)\n",
    "        [t_t0,exp_time]=spreadsheet.obsid_header_parse(obsid)\n",
    "        t_list.append(t_t0)\n",
    "    \n",
    "    fig = plt.figure()\n",
    "    plt.errorbar(t_list, counts_list, fmt='bo', yerr=lb+ub, xerr=exp_time)    "
   ]
  },
  {
   "cell_type": "code",
   "execution_count": 17,
   "metadata": {},
   "outputs": [
    {
     "name": "stdout",
     "output_type": "stream",
     "text": [
      "Obs ID 20861 observed a count rate of 0.0014 c/s\n"
     ]
    }
   ],
   "source": [
    "#reproject(20936, 20860)\n",
    "obsid = 20861\n",
    "[count, lb, ub] = region_count(obsid)\n",
    "print(f'Obs ID {obsid} observed a count rate of {count} c/s')\n",
    "\n",
    "from spreadsheet.ipynb import epoch_obsid_list as eol\n",
    "lightcurve_counts(eol)\n",
    "\n",
    "#merge_observations([20860, 20936])"
   ]
  }
 ],
 "metadata": {
  "kernelspec": {
   "display_name": "Python 3.10.8 ('ciao-4.15')",
   "language": "python",
   "name": "python3"
  },
  "language_info": {
   "codemirror_mode": {
    "name": "ipython",
    "version": 3
   },
   "file_extension": ".py",
   "mimetype": "text/x-python",
   "name": "python",
   "nbconvert_exporter": "python",
   "pygments_lexer": "ipython3",
   "version": "3.10.8"
  },
  "orig_nbformat": 4,
  "vscode": {
   "interpreter": {
    "hash": "aa0ed6ea5fdefd83fab7eb4cb6966f67b14a46d682529109a8514cc91561ea32"
   }
  }
 },
 "nbformat": 4,
 "nbformat_minor": 2
}
