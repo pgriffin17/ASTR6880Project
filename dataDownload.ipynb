{
 "cells": [
  {
   "cell_type": "code",
   "execution_count": 2,
   "metadata": {},
   "outputs": [],
   "source": [
    "import os"
   ]
  },
  {
   "cell_type": "code",
   "execution_count": 3,
   "metadata": {},
   "outputs": [],
   "source": [
    "os.mkdir('data')"
   ]
  },
  {
   "cell_type": "code",
   "execution_count": 2,
   "metadata": {},
   "outputs": [],
   "source": [
    "# Import for downloading chandra data from ObsID\n",
    "from ciao_contrib.cda.data import *"
   ]
  },
  {
   "cell_type": "code",
   "execution_count": 35,
   "metadata": {},
   "outputs": [],
   "source": [
    "# Import csv to read in ObsID\n",
    "import csv\n",
    "\n",
    "with open('chandraObs.csv', 'r') as f:\n",
    "    reader = csv.reader(f)\n",
    "    chandraObs = list(reader)"
   ]
  },
  {
   "cell_type": "code",
   "execution_count": 38,
   "metadata": {},
   "outputs": [],
   "source": [
    "obsIdList = []\n",
    "\n",
    "for row in chandraObs[1:]:\n",
    "    if row[3]!='':\n",
    "        obsIdList.append(row[2])"
   ]
  },
  {
   "cell_type": "code",
   "execution_count": 20,
   "metadata": {},
   "outputs": [
    {
     "data": {
      "text/plain": [
       "<CIAOLogger cxc.ciao.contrib.download (INFO)>"
      ]
     },
     "execution_count": 20,
     "metadata": {},
     "output_type": "execute_result"
    }
   ],
   "source": [
    "import ciao_contrib.logger_wrapper as lw \n",
    "lw.initialize_logger(\"download\", verbose=1)"
   ]
  },
  {
   "cell_type": "code",
   "execution_count": 31,
   "metadata": {},
   "outputs": [
    {
     "name": "stdout",
     "output_type": "stream",
     "text": [
      "Downloading files for ObsId 18955, total size is 146 Mb.\n",
      "\n",
      "  Type     Format      Size  0........H.........1  Download Time Average Rate\n",
      "  ---------------------------------------------------------------------------\n",
      "  evt1     fits       74 Mb  ####################            1 s  63649.8 kb/s\n",
      "  vvref    pdf        48 Mb  ####################          < 1 s  52644.9 kb/s\n",
      "  evt2     fits       10 Mb  ####################          < 1 s  19932.1 kb/s\n",
      "  asol     fits        5 Mb  ####################          < 1 s  13480.7 kb/s\n",
      "  mtl      fits      982 Kb  ####################          < 1 s  3034.7 kb/s\n",
      "  stat     fits      882 Kb  ####################          < 1 s  2711.6 kb/s\n",
      "  bias     fits      501 Kb  ####################          < 1 s  1704.4 kb/s\n",
      "  bias     fits      468 Kb  ####################          < 1 s  1606.6 kb/s\n",
      "  bias     fits      442 Kb  ####################          < 1 s  1529.6 kb/s\n",
      "  bias     fits      436 Kb  ####################          < 1 s  1496.0 kb/s\n",
      "  bias     fits      433 Kb  ####################          < 1 s  1452.3 kb/s\n",
      "  bias     fits      431 Kb  ####################          < 1 s  1501.3 kb/s\n",
      "  osol     fits      374 Kb  ####################          < 1 s  1419.2 kb/s\n",
      "  aqual    fits      369 Kb  ####################          < 1 s  1264.1 kb/s\n",
      "  osol     fits      363 Kb  ####################          < 1 s  1340.2 kb/s\n",
      "  osol     fits      356 Kb  ####################          < 1 s  1347.0 kb/s\n",
      "  osol     fits      356 Kb  ####################          < 1 s  1360.9 kb/s\n",
      "  cntr_img jpg       316 Kb  ####################          < 1 s  1078.2 kb/s\n",
      "  eph1     fits      311 Kb  ####################          < 1 s  1072.8 kb/s\n",
      "  eph1     fits      306 Kb  ####################          < 1 s  1041.6 kb/s\n",
      "  osol     fits      284 Kb  ####################          < 1 s  1075.0 kb/s\n",
      "  eph1     fits      283 Kb  ####################          < 1 s  1045.2 kb/s\n",
      "  full_img jpg        96 Kb  ####################          < 1 s  421.0 kb/s\n",
      "  full_img fits       51 Kb  ####################          < 1 s  251.4 kb/s\n",
      "  vv       pdf        48 Kb  ####################          < 1 s  234.0 kb/s\n",
      "  cntr_img fits       38 Kb  ####################          < 1 s  228.1 kb/s\n",
      "  bpix     fits       38 Kb  ####################          < 1 s  224.5 kb/s\n",
      "  oif      fits       20 Kb  ####################          < 1 s  117.0 kb/s\n",
      "  eph1     fits       11 Kb  ####################          < 1 s  78.7 kb/s\n",
      "  readme   ascii      10 Kb  ####################          < 1 s  72.6 kb/s\n",
      "  fov      fits        9 Kb  ####################          < 1 s  62.0 kb/s\n",
      "  flt      fits        7 Kb  ####################          < 1 s  49.9 kb/s\n",
      "  msk      fits        5 Kb  ####################          < 1 s  37.9 kb/s\n",
      "  pbk      fits        4 Kb  ####################          < 1 s  28.4 kb/s\n",
      "\n",
      "      Total download size for ObsId 18955 = 146 Mb\n",
      "      Total download time for ObsId 18955 = 10 s\n",
      "\n"
     ]
    },
    {
     "data": {
      "text/plain": [
       "[True]"
      ]
     },
     "execution_count": 31,
     "metadata": {},
     "output_type": "execute_result"
    }
   ],
   "source": [
    "# Download obsIDs\n",
    "download_chandra_obsids(obsIdList)"
   ]
  },
  {
   "attachments": {},
   "cell_type": "markdown",
   "metadata": {},
   "source": [
    "Now you must move all newly downloaded data files into the data directory manually. I tried doing this in python but it didn't work. I think I found my mistake, but I don't want to redownload all the files in order to test it..."
   ]
  },
  {
   "attachments": {},
   "cell_type": "markdown",
   "metadata": {},
   "source": [
    "Next, navigate to the data directory, activate ciao-4.15 and run ``` chandra_repro \"*\" outdir=\"\" ```. This will take a while, so grab a cup of tea."
   ]
  }
 ],
 "metadata": {
  "kernelspec": {
   "display_name": "ciao-4.15",
   "language": "python",
   "name": "python3"
  },
  "language_info": {
   "codemirror_mode": {
    "name": "ipython",
    "version": 3
   },
   "file_extension": ".py",
   "mimetype": "text/x-python",
   "name": "python",
   "nbconvert_exporter": "python",
   "pygments_lexer": "ipython3",
   "version": "3.10.8"
  },
  "orig_nbformat": 4
 },
 "nbformat": 4,
 "nbformat_minor": 2
}
